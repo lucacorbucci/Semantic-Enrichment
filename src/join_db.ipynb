{
 "cells": [
  {
   "cell_type": "markdown",
   "id": "wireless-alias",
   "metadata": {},
   "source": [
    "# Join DB\n",
    "\n",
    "In this notebook we create the dataset we will use in the future. In particular we joined some of the .csv that we can find in Mimic so that we have all the informations about the hospitalizations and the clinical notes in a single dataset."
   ]
  },
  {
   "cell_type": "code",
   "execution_count": 1,
   "id": "electoral-audience",
   "metadata": {},
   "outputs": [],
   "source": [
    "import pandas as pd\n",
    "import importlib\n",
    "import pickle\n",
    "from nltk.tokenize import RegexpTokenizer\n",
    "from os import listdir\n",
    "from os.path import isfile, join\n",
    "sys.path.append('..')\n",
    "from lib.utils import Utils\n",
    "import lib.NotesCleaning\n",
    "from lib.NotesCleaning import NotesCleaning\n",
    "importlib.reload(lib.NotesCleaning)\n",
    "pd.set_option('display.max_columns', None)"
   ]
  },
  {
   "cell_type": "markdown",
   "metadata": {
    "collapsed": false,
    "pycharm": {
     "name": "#%% md\n"
    }
   },
   "source": [
    "## Notes dataset\n",
    "\n",
    "First of all we load the csv with all the notes and then we clean it using the clean_note method."
   ]
  },
  {
   "cell_type": "code",
   "execution_count": 2,
   "metadata": {
    "collapsed": false,
    "pycharm": {
     "name": "#%%\n"
    }
   },
   "outputs": [],
   "source": [
    "notes_csv = pd.read_csv(\"../../Dati/mimic-iii-clinical-database-1.4/NOTEEVENTS.csv\", low_memory=False)"
   ]
  },
  {
   "cell_type": "code",
   "execution_count": 3,
   "metadata": {
    "collapsed": false,
    "pycharm": {
     "name": "#%%\n"
    }
   },
   "outputs": [
    {
     "data": {
      "text/plain": [
       "(2083180, 11)"
      ]
     },
     "execution_count": 3,
     "metadata": {},
     "output_type": "execute_result"
    }
   ],
   "source": [
    "notes_csv.shape"
   ]
  },
  {
   "cell_type": "code",
   "execution_count": 4,
   "metadata": {
    "collapsed": false,
    "pycharm": {
     "name": "#%%\n"
    }
   },
   "outputs": [],
   "source": [
    "notes_csv['Cleaned_Text'] = notes_csv.TEXT.apply(lambda x: NotesCleaning().clean_note(x))"
   ]
  },
  {
   "cell_type": "code",
   "execution_count": 5,
   "metadata": {
    "collapsed": false,
    "pycharm": {
     "name": "#%%\n"
    }
   },
   "outputs": [],
   "source": [
    "tokenizer = RegexpTokenizer(r'\\w+')\n",
    "notes_csv['Token'] = notes_csv['Cleaned_Text'].apply(lambda x: NotesCleaning().tokenize(x, tokenizer))"
   ]
  },
  {
   "cell_type": "markdown",
   "metadata": {
    "collapsed": false,
    "pycharm": {
     "name": "#%% md\n"
    }
   },
   "source": [
    "## Admission and diagnoses dataset\n",
    "\n",
    "Now we load the admission dataset and the diagnoses dataset.\n",
    "These two were cleaned using the pre_processing function of Doctor XAI."
   ]
  },
  {
   "cell_type": "code",
   "execution_count": 15,
   "metadata": {
    "collapsed": false,
    "pycharm": {
     "name": "#%%\n"
    }
   },
   "outputs": [],
   "source": [
    "# Load the already cleaned csv\n",
    "admission_df = pd.read_csv(\"../../Dati/mimic-iii-clinical-database-1.4/CSV/clean_ADMISSIONS.csv\")\n",
    "diagnoses_csv = pd.read_csv(\"../../Dati/mimic-iii-clinical-database-1.4/CSV/clean_DIAGNOSES_ICD.csv\")\n",
    "diagnoses_df = diagnoses_csv.groupby(['SUBJECT_ID','HADM_ID'], as_index=False).agg( {'ICD9_CODE':list })"
   ]
  },
  {
   "cell_type": "markdown",
   "metadata": {
    "collapsed": false,
    "pycharm": {
     "name": "#%% md\n"
    }
   },
   "source": [
    "## Join the datasets"
   ]
  },
  {
   "cell_type": "code",
   "execution_count": 8,
   "metadata": {
    "collapsed": false,
    "pycharm": {
     "name": "#%%\n"
    }
   },
   "outputs": [],
   "source": [
    "tmp_join = admission_df.merge(diagnoses_df, on=['SUBJECT_ID', 'HADM_ID'])"
   ]
  },
  {
   "cell_type": "code",
   "execution_count": 9,
   "metadata": {
    "collapsed": false,
    "pycharm": {
     "name": "#%%\n"
    }
   },
   "outputs": [],
   "source": [
    "df = notes_csv.merge(tmp_join, on=['SUBJECT_ID', 'HADM_ID'])"
   ]
  },
  {
   "cell_type": "code",
   "execution_count": 10,
   "metadata": {
    "collapsed": false,
    "pycharm": {
     "name": "#%%\n"
    }
   },
   "outputs": [
    {
     "data": {
      "text/html": [
       "<div>\n",
       "<style scoped>\n",
       "    .dataframe tbody tr th:only-of-type {\n",
       "        vertical-align: middle;\n",
       "    }\n",
       "\n",
       "    .dataframe tbody tr th {\n",
       "        vertical-align: top;\n",
       "    }\n",
       "\n",
       "    .dataframe thead th {\n",
       "        text-align: right;\n",
       "    }\n",
       "</style>\n",
       "<table border=\"1\" class=\"dataframe\">\n",
       "  <thead>\n",
       "    <tr style=\"text-align: right;\">\n",
       "      <th></th>\n",
       "      <th>ROW_ID_x</th>\n",
       "      <th>SUBJECT_ID</th>\n",
       "      <th>HADM_ID</th>\n",
       "      <th>CHARTDATE</th>\n",
       "      <th>CHARTTIME</th>\n",
       "      <th>STORETIME</th>\n",
       "      <th>CATEGORY</th>\n",
       "      <th>DESCRIPTION</th>\n",
       "      <th>CGID</th>\n",
       "      <th>ISERROR</th>\n",
       "      <th>TEXT</th>\n",
       "      <th>Cleaned_Text</th>\n",
       "      <th>Token</th>\n",
       "      <th>ROW_ID_y</th>\n",
       "      <th>ADMITTIME</th>\n",
       "      <th>DISCHTIME</th>\n",
       "      <th>DEATHTIME</th>\n",
       "      <th>ADMISSION_TYPE</th>\n",
       "      <th>ADMISSION_LOCATION</th>\n",
       "      <th>DISCHARGE_LOCATION</th>\n",
       "      <th>INSURANCE</th>\n",
       "      <th>LANGUAGE</th>\n",
       "      <th>RELIGION</th>\n",
       "      <th>MARITAL_STATUS</th>\n",
       "      <th>ETHNICITY</th>\n",
       "      <th>EDREGTIME</th>\n",
       "      <th>EDOUTTIME</th>\n",
       "      <th>DIAGNOSIS</th>\n",
       "      <th>HOSPITAL_EXPIRE_FLAG</th>\n",
       "      <th>HAS_CHARTEVENTS_DATA</th>\n",
       "      <th>ICD9_CODE</th>\n",
       "    </tr>\n",
       "  </thead>\n",
       "  <tbody>\n",
       "    <tr>\n",
       "      <th>0</th>\n",
       "      <td>174</td>\n",
       "      <td>22532</td>\n",
       "      <td>167853.0</td>\n",
       "      <td>2151-08-04</td>\n",
       "      <td>NaN</td>\n",
       "      <td>NaN</td>\n",
       "      <td>Discharge summary</td>\n",
       "      <td>Report</td>\n",
       "      <td>NaN</td>\n",
       "      <td>NaN</td>\n",
       "      <td>Admission Date:  [**2151-7-16**]       Dischar...</td>\n",
       "      <td>service  addendum  radiologic studies  radiol...</td>\n",
       "      <td>[service, addendum, radiologic, studies, radio...</td>\n",
       "      <td>27478</td>\n",
       "      <td>2151-07-16 14:29:00</td>\n",
       "      <td>2151-08-04 19:10:00</td>\n",
       "      <td>NaN</td>\n",
       "      <td>EMERGENCY</td>\n",
       "      <td>EMERGENCY ROOM ADMIT</td>\n",
       "      <td>REHAB/DISTINCT PART HOSP</td>\n",
       "      <td>Medicare</td>\n",
       "      <td>NaN</td>\n",
       "      <td>UNOBTAINABLE</td>\n",
       "      <td>UNKNOWN (DEFAULT)</td>\n",
       "      <td>UNKNOWN/NOT SPECIFIED</td>\n",
       "      <td>2151-07-16 04:49:00</td>\n",
       "      <td>2151-07-16 14:20:00</td>\n",
       "      <td>RT LOWER LOBE PNEUMONIA</td>\n",
       "      <td>0</td>\n",
       "      <td>1</td>\n",
       "      <td>[01193, 4254, 42731, 2639, 2762, 5070, 5119, 2...</td>\n",
       "    </tr>\n",
       "    <tr>\n",
       "      <th>1</th>\n",
       "      <td>170</td>\n",
       "      <td>22532</td>\n",
       "      <td>167853.0</td>\n",
       "      <td>2151-08-04</td>\n",
       "      <td>NaN</td>\n",
       "      <td>NaN</td>\n",
       "      <td>Discharge summary</td>\n",
       "      <td>Report</td>\n",
       "      <td>NaN</td>\n",
       "      <td>NaN</td>\n",
       "      <td>Admission Date:  [**2151-7-16**]       Dischar...</td>\n",
       "      <td>history of present illness  the patient is an...</td>\n",
       "      <td>[history, present, illness, patient, year, old...</td>\n",
       "      <td>27478</td>\n",
       "      <td>2151-07-16 14:29:00</td>\n",
       "      <td>2151-08-04 19:10:00</td>\n",
       "      <td>NaN</td>\n",
       "      <td>EMERGENCY</td>\n",
       "      <td>EMERGENCY ROOM ADMIT</td>\n",
       "      <td>REHAB/DISTINCT PART HOSP</td>\n",
       "      <td>Medicare</td>\n",
       "      <td>NaN</td>\n",
       "      <td>UNOBTAINABLE</td>\n",
       "      <td>UNKNOWN (DEFAULT)</td>\n",
       "      <td>UNKNOWN/NOT SPECIFIED</td>\n",
       "      <td>2151-07-16 04:49:00</td>\n",
       "      <td>2151-07-16 14:20:00</td>\n",
       "      <td>RT LOWER LOBE PNEUMONIA</td>\n",
       "      <td>0</td>\n",
       "      <td>1</td>\n",
       "      <td>[01193, 4254, 42731, 2639, 2762, 5070, 5119, 2...</td>\n",
       "    </tr>\n",
       "    <tr>\n",
       "      <th>2</th>\n",
       "      <td>59795</td>\n",
       "      <td>22532</td>\n",
       "      <td>167853.0</td>\n",
       "      <td>2151-08-02</td>\n",
       "      <td>NaN</td>\n",
       "      <td>NaN</td>\n",
       "      <td>Echo</td>\n",
       "      <td>Report</td>\n",
       "      <td>NaN</td>\n",
       "      <td>NaN</td>\n",
       "      <td>PATIENT/TEST INFORMATION:\\nIndication: Aortic ...</td>\n",
       "      <td>patient test information  indication  aortic v...</td>\n",
       "      <td>[patient, test, information, indication, aorti...</td>\n",
       "      <td>27478</td>\n",
       "      <td>2151-07-16 14:29:00</td>\n",
       "      <td>2151-08-04 19:10:00</td>\n",
       "      <td>NaN</td>\n",
       "      <td>EMERGENCY</td>\n",
       "      <td>EMERGENCY ROOM ADMIT</td>\n",
       "      <td>REHAB/DISTINCT PART HOSP</td>\n",
       "      <td>Medicare</td>\n",
       "      <td>NaN</td>\n",
       "      <td>UNOBTAINABLE</td>\n",
       "      <td>UNKNOWN (DEFAULT)</td>\n",
       "      <td>UNKNOWN/NOT SPECIFIED</td>\n",
       "      <td>2151-07-16 04:49:00</td>\n",
       "      <td>2151-07-16 14:20:00</td>\n",
       "      <td>RT LOWER LOBE PNEUMONIA</td>\n",
       "      <td>0</td>\n",
       "      <td>1</td>\n",
       "      <td>[01193, 4254, 42731, 2639, 2762, 5070, 5119, 2...</td>\n",
       "    </tr>\n",
       "    <tr>\n",
       "      <th>3</th>\n",
       "      <td>59796</td>\n",
       "      <td>22532</td>\n",
       "      <td>167853.0</td>\n",
       "      <td>2151-07-19</td>\n",
       "      <td>NaN</td>\n",
       "      <td>NaN</td>\n",
       "      <td>Echo</td>\n",
       "      <td>Report</td>\n",
       "      <td>NaN</td>\n",
       "      <td>NaN</td>\n",
       "      <td>PATIENT/TEST INFORMATION:\\nIndication: Endocar...</td>\n",
       "      <td>patient test information  indication  endocard...</td>\n",
       "      <td>[patient, test, information, indication, endoc...</td>\n",
       "      <td>27478</td>\n",
       "      <td>2151-07-16 14:29:00</td>\n",
       "      <td>2151-08-04 19:10:00</td>\n",
       "      <td>NaN</td>\n",
       "      <td>EMERGENCY</td>\n",
       "      <td>EMERGENCY ROOM ADMIT</td>\n",
       "      <td>REHAB/DISTINCT PART HOSP</td>\n",
       "      <td>Medicare</td>\n",
       "      <td>NaN</td>\n",
       "      <td>UNOBTAINABLE</td>\n",
       "      <td>UNKNOWN (DEFAULT)</td>\n",
       "      <td>UNKNOWN/NOT SPECIFIED</td>\n",
       "      <td>2151-07-16 04:49:00</td>\n",
       "      <td>2151-07-16 14:20:00</td>\n",
       "      <td>RT LOWER LOBE PNEUMONIA</td>\n",
       "      <td>0</td>\n",
       "      <td>1</td>\n",
       "      <td>[01193, 4254, 42731, 2639, 2762, 5070, 5119, 2...</td>\n",
       "    </tr>\n",
       "    <tr>\n",
       "      <th>4</th>\n",
       "      <td>106289</td>\n",
       "      <td>22532</td>\n",
       "      <td>167853.0</td>\n",
       "      <td>2151-08-03</td>\n",
       "      <td>NaN</td>\n",
       "      <td>NaN</td>\n",
       "      <td>ECG</td>\n",
       "      <td>Report</td>\n",
       "      <td>NaN</td>\n",
       "      <td>NaN</td>\n",
       "      <td>Atrial fibrillation with a slow ventricular re...</td>\n",
       "      <td>atrial fibrillation with a slow ventricular re...</td>\n",
       "      <td>[atrial, fibrillation, slow, ventricular, resp...</td>\n",
       "      <td>27478</td>\n",
       "      <td>2151-07-16 14:29:00</td>\n",
       "      <td>2151-08-04 19:10:00</td>\n",
       "      <td>NaN</td>\n",
       "      <td>EMERGENCY</td>\n",
       "      <td>EMERGENCY ROOM ADMIT</td>\n",
       "      <td>REHAB/DISTINCT PART HOSP</td>\n",
       "      <td>Medicare</td>\n",
       "      <td>NaN</td>\n",
       "      <td>UNOBTAINABLE</td>\n",
       "      <td>UNKNOWN (DEFAULT)</td>\n",
       "      <td>UNKNOWN/NOT SPECIFIED</td>\n",
       "      <td>2151-07-16 04:49:00</td>\n",
       "      <td>2151-07-16 14:20:00</td>\n",
       "      <td>RT LOWER LOBE PNEUMONIA</td>\n",
       "      <td>0</td>\n",
       "      <td>1</td>\n",
       "      <td>[01193, 4254, 42731, 2639, 2762, 5070, 5119, 2...</td>\n",
       "    </tr>\n",
       "  </tbody>\n",
       "</table>\n",
       "</div>"
      ],
      "text/plain": [
       "   ROW_ID_x  SUBJECT_ID   HADM_ID   CHARTDATE CHARTTIME STORETIME  \\\n",
       "0       174       22532  167853.0  2151-08-04       NaN       NaN   \n",
       "1       170       22532  167853.0  2151-08-04       NaN       NaN   \n",
       "2     59795       22532  167853.0  2151-08-02       NaN       NaN   \n",
       "3     59796       22532  167853.0  2151-07-19       NaN       NaN   \n",
       "4    106289       22532  167853.0  2151-08-03       NaN       NaN   \n",
       "\n",
       "            CATEGORY DESCRIPTION  CGID  ISERROR  \\\n",
       "0  Discharge summary      Report   NaN      NaN   \n",
       "1  Discharge summary      Report   NaN      NaN   \n",
       "2               Echo      Report   NaN      NaN   \n",
       "3               Echo      Report   NaN      NaN   \n",
       "4                ECG      Report   NaN      NaN   \n",
       "\n",
       "                                                TEXT  \\\n",
       "0  Admission Date:  [**2151-7-16**]       Dischar...   \n",
       "1  Admission Date:  [**2151-7-16**]       Dischar...   \n",
       "2  PATIENT/TEST INFORMATION:\\nIndication: Aortic ...   \n",
       "3  PATIENT/TEST INFORMATION:\\nIndication: Endocar...   \n",
       "4  Atrial fibrillation with a slow ventricular re...   \n",
       "\n",
       "                                        Cleaned_Text  \\\n",
       "0   service  addendum  radiologic studies  radiol...   \n",
       "1   history of present illness  the patient is an...   \n",
       "2  patient test information  indication  aortic v...   \n",
       "3  patient test information  indication  endocard...   \n",
       "4  atrial fibrillation with a slow ventricular re...   \n",
       "\n",
       "                                               Token  ROW_ID_y  \\\n",
       "0  [service, addendum, radiologic, studies, radio...     27478   \n",
       "1  [history, present, illness, patient, year, old...     27478   \n",
       "2  [patient, test, information, indication, aorti...     27478   \n",
       "3  [patient, test, information, indication, endoc...     27478   \n",
       "4  [atrial, fibrillation, slow, ventricular, resp...     27478   \n",
       "\n",
       "             ADMITTIME            DISCHTIME DEATHTIME ADMISSION_TYPE  \\\n",
       "0  2151-07-16 14:29:00  2151-08-04 19:10:00       NaN      EMERGENCY   \n",
       "1  2151-07-16 14:29:00  2151-08-04 19:10:00       NaN      EMERGENCY   \n",
       "2  2151-07-16 14:29:00  2151-08-04 19:10:00       NaN      EMERGENCY   \n",
       "3  2151-07-16 14:29:00  2151-08-04 19:10:00       NaN      EMERGENCY   \n",
       "4  2151-07-16 14:29:00  2151-08-04 19:10:00       NaN      EMERGENCY   \n",
       "\n",
       "     ADMISSION_LOCATION        DISCHARGE_LOCATION INSURANCE LANGUAGE  \\\n",
       "0  EMERGENCY ROOM ADMIT  REHAB/DISTINCT PART HOSP  Medicare      NaN   \n",
       "1  EMERGENCY ROOM ADMIT  REHAB/DISTINCT PART HOSP  Medicare      NaN   \n",
       "2  EMERGENCY ROOM ADMIT  REHAB/DISTINCT PART HOSP  Medicare      NaN   \n",
       "3  EMERGENCY ROOM ADMIT  REHAB/DISTINCT PART HOSP  Medicare      NaN   \n",
       "4  EMERGENCY ROOM ADMIT  REHAB/DISTINCT PART HOSP  Medicare      NaN   \n",
       "\n",
       "       RELIGION     MARITAL_STATUS              ETHNICITY  \\\n",
       "0  UNOBTAINABLE  UNKNOWN (DEFAULT)  UNKNOWN/NOT SPECIFIED   \n",
       "1  UNOBTAINABLE  UNKNOWN (DEFAULT)  UNKNOWN/NOT SPECIFIED   \n",
       "2  UNOBTAINABLE  UNKNOWN (DEFAULT)  UNKNOWN/NOT SPECIFIED   \n",
       "3  UNOBTAINABLE  UNKNOWN (DEFAULT)  UNKNOWN/NOT SPECIFIED   \n",
       "4  UNOBTAINABLE  UNKNOWN (DEFAULT)  UNKNOWN/NOT SPECIFIED   \n",
       "\n",
       "             EDREGTIME            EDOUTTIME                DIAGNOSIS  \\\n",
       "0  2151-07-16 04:49:00  2151-07-16 14:20:00  RT LOWER LOBE PNEUMONIA   \n",
       "1  2151-07-16 04:49:00  2151-07-16 14:20:00  RT LOWER LOBE PNEUMONIA   \n",
       "2  2151-07-16 04:49:00  2151-07-16 14:20:00  RT LOWER LOBE PNEUMONIA   \n",
       "3  2151-07-16 04:49:00  2151-07-16 14:20:00  RT LOWER LOBE PNEUMONIA   \n",
       "4  2151-07-16 04:49:00  2151-07-16 14:20:00  RT LOWER LOBE PNEUMONIA   \n",
       "\n",
       "   HOSPITAL_EXPIRE_FLAG  HAS_CHARTEVENTS_DATA  \\\n",
       "0                     0                     1   \n",
       "1                     0                     1   \n",
       "2                     0                     1   \n",
       "3                     0                     1   \n",
       "4                     0                     1   \n",
       "\n",
       "                                           ICD9_CODE  \n",
       "0  [01193, 4254, 42731, 2639, 2762, 5070, 5119, 2...  \n",
       "1  [01193, 4254, 42731, 2639, 2762, 5070, 5119, 2...  \n",
       "2  [01193, 4254, 42731, 2639, 2762, 5070, 5119, 2...  \n",
       "3  [01193, 4254, 42731, 2639, 2762, 5070, 5119, 2...  \n",
       "4  [01193, 4254, 42731, 2639, 2762, 5070, 5119, 2...  "
      ]
     },
     "execution_count": 10,
     "metadata": {},
     "output_type": "execute_result"
    }
   ],
   "source": [
    "pd.set_option('display.max_columns', None)\n",
    "df.head()"
   ]
  },
  {
   "cell_type": "code",
   "execution_count": 12,
   "metadata": {
    "collapsed": false,
    "pycharm": {
     "name": "#%%\n"
    }
   },
   "outputs": [
    {
     "data": {
      "text/plain": [
       "(1851243, 31)"
      ]
     },
     "execution_count": 12,
     "metadata": {},
     "output_type": "execute_result"
    }
   ],
   "source": [
    "df.shape"
   ]
  },
  {
   "cell_type": "code",
   "execution_count": null,
   "metadata": {
    "collapsed": false,
    "pycharm": {
     "name": "#%%\n"
    }
   },
   "outputs": [],
   "source": [
    "cleanedText = pd.DataFrame()"
   ]
  },
  {
   "cell_type": "code",
   "execution_count": null,
   "metadata": {
    "collapsed": false,
    "pycharm": {
     "name": "#%%\n"
    }
   },
   "outputs": [],
   "source": [
    "cleanedText['Cleaned_Text'] = df['Cleaned_Text']"
   ]
  },
  {
   "cell_type": "code",
   "execution_count": 34,
   "metadata": {
    "collapsed": false,
    "pycharm": {
     "name": "#%%\n"
    }
   },
   "outputs": [],
   "source": [
    "cleanedText.to_csv('../data/cleanedText.csv')"
   ]
  },
  {
   "cell_type": "code",
   "execution_count": 13,
   "metadata": {
    "collapsed": false,
    "pycharm": {
     "name": "#%%\n"
    }
   },
   "outputs": [],
   "source": [
    "df = df[['SUBJECT_ID', 'HADM_ID', 'CATEGORY', 'INSURANCE', 'ADMISSION_TYPE', 'INSURANCE', 'TEXT', 'Token', 'ICD9_CODE', 'DIAGNOSIS']]"
   ]
  },
  {
   "cell_type": "code",
   "execution_count": 14,
   "metadata": {
    "collapsed": false,
    "pycharm": {
     "name": "#%%\n"
    }
   },
   "outputs": [],
   "source": [
    "df.to_csv(\"../data/merged_dataset.csv\")"
   ]
  },
  {
   "cell_type": "markdown",
   "metadata": {
    "collapsed": false,
    "pycharm": {
     "name": "#%% md\n"
    }
   },
   "source": [
    "## Reduced dataset with only \"Discharge summary\" notes"
   ]
  },
  {
   "cell_type": "code",
   "execution_count": 41,
   "metadata": {
    "collapsed": false,
    "pycharm": {
     "name": "#%%\n"
    }
   },
   "outputs": [
    {
     "data": {
      "text/plain": [
       "(1851243, 11)"
      ]
     },
     "execution_count": 41,
     "metadata": {},
     "output_type": "execute_result"
    }
   ],
   "source": [
    "df.shape"
   ]
  },
  {
   "cell_type": "code",
   "execution_count": 39,
   "metadata": {
    "collapsed": false,
    "pycharm": {
     "name": "#%%\n"
    }
   },
   "outputs": [],
   "source": [
    "df_discharge = df[df.CATEGORY == \"Discharge summary\"]"
   ]
  },
  {
   "cell_type": "code",
   "execution_count": 45,
   "metadata": {
    "collapsed": false,
    "pycharm": {
     "name": "#%%\n"
    }
   },
   "outputs": [
    {
     "data": {
      "text/plain": [
       "(59646, 11)"
      ]
     },
     "execution_count": 45,
     "metadata": {},
     "output_type": "execute_result"
    }
   ],
   "source": [
    "df_discharge.shape"
   ]
  },
  {
   "cell_type": "code",
   "execution_count": 47,
   "metadata": {
    "collapsed": false,
    "pycharm": {
     "name": "#%%\n"
    }
   },
   "outputs": [
    {
     "data": {
      "text/html": [
       "<div>\n",
       "<style scoped>\n",
       "    .dataframe tbody tr th:only-of-type {\n",
       "        vertical-align: middle;\n",
       "    }\n",
       "\n",
       "    .dataframe tbody tr th {\n",
       "        vertical-align: top;\n",
       "    }\n",
       "\n",
       "    .dataframe thead th {\n",
       "        text-align: right;\n",
       "    }\n",
       "</style>\n",
       "<table border=\"1\" class=\"dataframe\">\n",
       "  <thead>\n",
       "    <tr style=\"text-align: right;\">\n",
       "      <th></th>\n",
       "      <th>Unnamed: 0</th>\n",
       "      <th>SUBJECT_ID</th>\n",
       "      <th>HADM_ID</th>\n",
       "      <th>CATEGORY</th>\n",
       "      <th>INSURANCE</th>\n",
       "      <th>ADMISSION_TYPE</th>\n",
       "      <th>INSURANCE.1</th>\n",
       "      <th>TEXT</th>\n",
       "      <th>Token</th>\n",
       "      <th>ICD9_CODE</th>\n",
       "      <th>DIAGNOSIS</th>\n",
       "    </tr>\n",
       "  </thead>\n",
       "  <tbody>\n",
       "    <tr>\n",
       "      <th>0</th>\n",
       "      <td>0</td>\n",
       "      <td>22532</td>\n",
       "      <td>167853.0</td>\n",
       "      <td>Discharge summary</td>\n",
       "      <td>Medicare</td>\n",
       "      <td>EMERGENCY</td>\n",
       "      <td>Medicare</td>\n",
       "      <td>Admission Date:  [**2151-7-16**]       Dischar...</td>\n",
       "      <td>['service', 'addendum', 'radiologic', 'studies...</td>\n",
       "      <td>['01193', '4254', '42731', '2639', '2762', '50...</td>\n",
       "      <td>RT LOWER LOBE PNEUMONIA</td>\n",
       "    </tr>\n",
       "    <tr>\n",
       "      <th>1</th>\n",
       "      <td>1</td>\n",
       "      <td>22532</td>\n",
       "      <td>167853.0</td>\n",
       "      <td>Discharge summary</td>\n",
       "      <td>Medicare</td>\n",
       "      <td>EMERGENCY</td>\n",
       "      <td>Medicare</td>\n",
       "      <td>Admission Date:  [**2151-7-16**]       Dischar...</td>\n",
       "      <td>['history', 'present', 'illness', 'patient', '...</td>\n",
       "      <td>['01193', '4254', '42731', '2639', '2762', '50...</td>\n",
       "      <td>RT LOWER LOBE PNEUMONIA</td>\n",
       "    </tr>\n",
       "    <tr>\n",
       "      <th>32</th>\n",
       "      <td>32</td>\n",
       "      <td>13702</td>\n",
       "      <td>107527.0</td>\n",
       "      <td>Discharge summary</td>\n",
       "      <td>Medicare</td>\n",
       "      <td>EMERGENCY</td>\n",
       "      <td>Medicare</td>\n",
       "      <td>Admission Date:  [**2118-6-2**]       Discharg...</td>\n",
       "      <td>['date', 'birth', 'sex', 'f', 'service', 'micu...</td>\n",
       "      <td>['5191', '49121', '51881', '486', '2761', '244...</td>\n",
       "      <td>CHRONIC OBSTRUCTIVE PULMONARY DISEASE</td>\n",
       "    </tr>\n",
       "    <tr>\n",
       "      <th>79</th>\n",
       "      <td>79</td>\n",
       "      <td>13702</td>\n",
       "      <td>167118.0</td>\n",
       "      <td>Discharge summary</td>\n",
       "      <td>Medicare</td>\n",
       "      <td>ELECTIVE</td>\n",
       "      <td>Medicare</td>\n",
       "      <td>Admission Date:  [**2119-5-4**]              D...</td>\n",
       "      <td>['service', 'cardiothoracic', 'allergies', 'am...</td>\n",
       "      <td>['5191', '5185', '496', '2762', '45340', '5533']</td>\n",
       "      <td>TRACHEALBRONCHEAL MALACEA/SDA</td>\n",
       "    </tr>\n",
       "    <tr>\n",
       "      <th>186</th>\n",
       "      <td>186</td>\n",
       "      <td>13702</td>\n",
       "      <td>196489.0</td>\n",
       "      <td>Discharge summary</td>\n",
       "      <td>Medicare</td>\n",
       "      <td>EMERGENCY</td>\n",
       "      <td>Medicare</td>\n",
       "      <td>Admission Date:  [**2124-7-21**]              ...</td>\n",
       "      <td>['service', 'medicine', 'allergies', 'amlodipi...</td>\n",
       "      <td>['51884', '5849', '34830', '49121', '2760', '4...</td>\n",
       "      <td>ASTHMA;COPD EXACERBATION</td>\n",
       "    </tr>\n",
       "  </tbody>\n",
       "</table>\n",
       "</div>"
      ],
      "text/plain": [
       "     Unnamed: 0  SUBJECT_ID   HADM_ID           CATEGORY INSURANCE  \\\n",
       "0             0       22532  167853.0  Discharge summary  Medicare   \n",
       "1             1       22532  167853.0  Discharge summary  Medicare   \n",
       "32           32       13702  107527.0  Discharge summary  Medicare   \n",
       "79           79       13702  167118.0  Discharge summary  Medicare   \n",
       "186         186       13702  196489.0  Discharge summary  Medicare   \n",
       "\n",
       "    ADMISSION_TYPE INSURANCE.1  \\\n",
       "0        EMERGENCY    Medicare   \n",
       "1        EMERGENCY    Medicare   \n",
       "32       EMERGENCY    Medicare   \n",
       "79        ELECTIVE    Medicare   \n",
       "186      EMERGENCY    Medicare   \n",
       "\n",
       "                                                  TEXT  \\\n",
       "0    Admission Date:  [**2151-7-16**]       Dischar...   \n",
       "1    Admission Date:  [**2151-7-16**]       Dischar...   \n",
       "32   Admission Date:  [**2118-6-2**]       Discharg...   \n",
       "79   Admission Date:  [**2119-5-4**]              D...   \n",
       "186  Admission Date:  [**2124-7-21**]              ...   \n",
       "\n",
       "                                                 Token  \\\n",
       "0    ['service', 'addendum', 'radiologic', 'studies...   \n",
       "1    ['history', 'present', 'illness', 'patient', '...   \n",
       "32   ['date', 'birth', 'sex', 'f', 'service', 'micu...   \n",
       "79   ['service', 'cardiothoracic', 'allergies', 'am...   \n",
       "186  ['service', 'medicine', 'allergies', 'amlodipi...   \n",
       "\n",
       "                                             ICD9_CODE  \\\n",
       "0    ['01193', '4254', '42731', '2639', '2762', '50...   \n",
       "1    ['01193', '4254', '42731', '2639', '2762', '50...   \n",
       "32   ['5191', '49121', '51881', '486', '2761', '244...   \n",
       "79    ['5191', '5185', '496', '2762', '45340', '5533']   \n",
       "186  ['51884', '5849', '34830', '49121', '2760', '4...   \n",
       "\n",
       "                                 DIAGNOSIS  \n",
       "0                  RT LOWER LOBE PNEUMONIA  \n",
       "1                  RT LOWER LOBE PNEUMONIA  \n",
       "32   CHRONIC OBSTRUCTIVE PULMONARY DISEASE  \n",
       "79           TRACHEALBRONCHEAL MALACEA/SDA  \n",
       "186               ASTHMA;COPD EXACERBATION  "
      ]
     },
     "execution_count": 47,
     "metadata": {},
     "output_type": "execute_result"
    }
   ],
   "source": [
    "df_discharge.head()"
   ]
  },
  {
   "cell_type": "code",
   "execution_count": 48,
   "metadata": {
    "collapsed": false,
    "pycharm": {
     "name": "#%%\n"
    }
   },
   "outputs": [],
   "source": [
    "df_discharge.to_csv(\"../data/df_discharge.csv\")"
   ]
  },
  {
   "cell_type": "markdown",
   "metadata": {
    "collapsed": false,
    "pycharm": {
     "name": "#%% md\n"
    }
   },
   "source": [
    "## Reduced dataset with only diabetic patients\n",
    "\n",
    "Now we reduce the size of the dataset considering only the patients that are classified with a code related with diabetes (250.00)"
   ]
  },
  {
   "cell_type": "code",
   "execution_count": 3,
   "metadata": {
    "collapsed": false,
    "pycharm": {
     "name": "#%%\n"
    }
   },
   "outputs": [
    {
     "ename": "NameError",
     "evalue": "name 'df_discharge' is not defined",
     "output_type": "error",
     "traceback": [
      "\u001b[0;31m---------------------------------------------------------------------------\u001b[0m",
      "\u001b[0;31mNameError\u001b[0m                                 Traceback (most recent call last)",
      "\u001b[0;32m/var/folders/wj/ntml8w_16wx_2bfs3p49pxdw0000gn/T/ipykernel_9803/856537667.py\u001b[0m in \u001b[0;36m<module>\u001b[0;34m\u001b[0m\n\u001b[0;32m----> 1\u001b[0;31m \u001b[0mreduced_df\u001b[0m \u001b[0;34m=\u001b[0m \u001b[0mUtils\u001b[0m\u001b[0;34m(\u001b[0m\u001b[0;34m)\u001b[0m\u001b[0;34m.\u001b[0m\u001b[0mextract_diabete_only\u001b[0m\u001b[0;34m(\u001b[0m\u001b[0mdf_discharge\u001b[0m\u001b[0;34m)\u001b[0m\u001b[0;34m\u001b[0m\u001b[0;34m\u001b[0m\u001b[0m\n\u001b[0m",
      "\u001b[0;31mNameError\u001b[0m: name 'df_discharge' is not defined"
     ]
    }
   ],
   "source": [
    "reduced_df = Utils().extract_diabete_only(df_discharge)"
   ]
  },
  {
   "cell_type": "code",
   "execution_count": 57,
   "metadata": {
    "collapsed": false,
    "pycharm": {
     "name": "#%%\n"
    }
   },
   "outputs": [
    {
     "data": {
      "text/plain": [
       "(9829, 11)"
      ]
     },
     "execution_count": 57,
     "metadata": {},
     "output_type": "execute_result"
    }
   ],
   "source": [
    "reduced_df.shape"
   ]
  },
  {
   "cell_type": "code",
   "execution_count": 58,
   "metadata": {
    "collapsed": false,
    "pycharm": {
     "name": "#%%\n"
    }
   },
   "outputs": [],
   "source": [
    "reduced_df.to_csv(\"../data/only_diabete.csv\")"
   ]
  },
  {
   "cell_type": "markdown",
   "metadata": {},
   "source": [
    "# Medical Abbreviations"
   ]
  },
  {
   "cell_type": "code",
   "execution_count": 18,
   "metadata": {},
   "outputs": [
    {
     "name": "stdout",
     "output_type": "stream",
     "text": [
      "['../data/abbreviations/File 9.csv', '../data/abbreviations/File_8.csv', '../data/abbreviations/File 1.csv', '../data/abbreviations/File 0.csv', '../data/abbreviations/File 2.csv', '../data/abbreviations/File 3.csv', '../data/abbreviations/File 7.csv', '../data/abbreviations/File 6.csv', '../data/abbreviations/File 4.csv', '../data/abbreviations/File 5.csv']\n"
     ]
    }
   ],
   "source": [
    "abbreviations = []\n",
    "files = [\"../data/abbreviations/\" + f for f in listdir(\"../data/abbreviations/\") if isfile(join(\"../data/abbreviations/\", f))]\n",
    "files.remove('../data/abbreviations/.DS_Store')\n",
    "print(files)\n",
    "for filename in files:\n",
    "    df = pd.read_csv(filename)\n",
    "    abbreviations.append(df)\n",
    "\n",
    "abbreviations = pd.concat(abbreviations, axis=0, ignore_index=True)"
   ]
  },
  {
   "cell_type": "code",
   "execution_count": 19,
   "metadata": {},
   "outputs": [
    {
     "data": {
      "text/plain": [
       "(3171, 3)"
      ]
     },
     "execution_count": 19,
     "metadata": {},
     "output_type": "execute_result"
    }
   ],
   "source": [
    "abbreviations.shape"
   ]
  },
  {
   "cell_type": "code",
   "execution_count": 20,
   "metadata": {},
   "outputs": [
    {
     "data": {
      "text/html": [
       "<div>\n",
       "<style scoped>\n",
       "    .dataframe tbody tr th:only-of-type {\n",
       "        vertical-align: middle;\n",
       "    }\n",
       "\n",
       "    .dataframe tbody tr th {\n",
       "        vertical-align: top;\n",
       "    }\n",
       "\n",
       "    .dataframe thead th {\n",
       "        text-align: right;\n",
       "    }\n",
       "</style>\n",
       "<table border=\"1\" class=\"dataframe\">\n",
       "  <thead>\n",
       "    <tr style=\"text-align: right;\">\n",
       "      <th></th>\n",
       "      <th>Abbreviation/Shorthand</th>\n",
       "      <th>Meaning</th>\n",
       "      <th>More Info</th>\n",
       "    </tr>\n",
       "  </thead>\n",
       "  <tbody>\n",
       "    <tr>\n",
       "      <th>0</th>\n",
       "      <td>2D-RT</td>\n",
       "      <td>two-dimensional radiotherapy</td>\n",
       "      <td>NaN</td>\n",
       "    </tr>\n",
       "    <tr>\n",
       "      <th>1</th>\n",
       "      <td>2VD</td>\n",
       "      <td>two vessels disease</td>\n",
       "      <td>NaN</td>\n",
       "    </tr>\n",
       "    <tr>\n",
       "      <th>2</th>\n",
       "      <td>3D-CRT</td>\n",
       "      <td>three-dimensional conformal radiotherapy</td>\n",
       "      <td>NaN</td>\n",
       "    </tr>\n",
       "    <tr>\n",
       "      <th>3</th>\n",
       "      <td>3DCRT</td>\n",
       "      <td>three-dimensional conformal radiotherapy</td>\n",
       "      <td>NaN</td>\n",
       "    </tr>\n",
       "    <tr>\n",
       "      <th>4</th>\n",
       "      <td>3VD</td>\n",
       "      <td>three vessels diseases</td>\n",
       "      <td>NaN</td>\n",
       "    </tr>\n",
       "  </tbody>\n",
       "</table>\n",
       "</div>"
      ],
      "text/plain": [
       "  Abbreviation/Shorthand                                   Meaning More Info\n",
       "0                  2D-RT              two-dimensional radiotherapy       NaN\n",
       "1                    2VD                       two vessels disease       NaN\n",
       "2                 3D-CRT  three-dimensional conformal radiotherapy       NaN\n",
       "3                  3DCRT  three-dimensional conformal radiotherapy       NaN\n",
       "4                    3VD                    three vessels diseases       NaN"
      ]
     },
     "execution_count": 20,
     "metadata": {},
     "output_type": "execute_result"
    }
   ],
   "source": [
    "abbreviations.head()"
   ]
  },
  {
   "cell_type": "code",
   "execution_count": 21,
   "metadata": {},
   "outputs": [
    {
     "data": {
      "text/html": [
       "<div>\n",
       "<style scoped>\n",
       "    .dataframe tbody tr th:only-of-type {\n",
       "        vertical-align: middle;\n",
       "    }\n",
       "\n",
       "    .dataframe tbody tr th {\n",
       "        vertical-align: top;\n",
       "    }\n",
       "\n",
       "    .dataframe thead th {\n",
       "        text-align: right;\n",
       "    }\n",
       "</style>\n",
       "<table border=\"1\" class=\"dataframe\">\n",
       "  <thead>\n",
       "    <tr style=\"text-align: right;\">\n",
       "      <th></th>\n",
       "      <th>Abbreviation/Shorthand</th>\n",
       "      <th>Meaning</th>\n",
       "      <th>More Info</th>\n",
       "    </tr>\n",
       "  </thead>\n",
       "  <tbody>\n",
       "    <tr>\n",
       "      <th>1353</th>\n",
       "      <td>VAC</td>\n",
       "      <td>vacuum-assisted closure</td>\n",
       "      <td>https://www.ncbi.nlm.nih.gov/pmc/articles/PMC3...</td>\n",
       "    </tr>\n",
       "  </tbody>\n",
       "</table>\n",
       "</div>"
      ],
      "text/plain": [
       "     Abbreviation/Shorthand                  Meaning  \\\n",
       "1353                    VAC  vacuum-assisted closure   \n",
       "\n",
       "                                              More Info  \n",
       "1353  https://www.ncbi.nlm.nih.gov/pmc/articles/PMC3...  "
      ]
     },
     "execution_count": 21,
     "metadata": {},
     "output_type": "execute_result"
    }
   ],
   "source": [
    "abbreviations[abbreviations['Abbreviation/Shorthand'] == \"VAC\"]"
   ]
  },
  {
   "cell_type": "code",
   "execution_count": 22,
   "metadata": {},
   "outputs": [],
   "source": [
    "abbreviations = abbreviations.drop_duplicates(subset=['Abbreviation/Shorthand'], keep=False)"
   ]
  },
  {
   "cell_type": "code",
   "execution_count": 23,
   "metadata": {},
   "outputs": [
    {
     "data": {
      "text/plain": [
       "(2432, 3)"
      ]
     },
     "execution_count": 23,
     "metadata": {},
     "output_type": "execute_result"
    }
   ],
   "source": [
    "abbreviations.shape"
   ]
  },
  {
   "cell_type": "code",
   "execution_count": 24,
   "metadata": {},
   "outputs": [],
   "source": [
    "abbreviations_dict = {}\n",
    "\n",
    "for _, row in abbreviations.iterrows():\n",
    "    abbreviations_dict[row['Abbreviation/Shorthand']] = row['Meaning']\n",
    "\n",
    "pickle.dump(abbreviations, open(\"../data/abbreviations/abbreviations_dict.pkl\", \"wb\"))"
   ]
  },
  {
   "cell_type": "code",
   "execution_count": 25,
   "metadata": {},
   "outputs": [],
   "source": [
    "abbr = pickle.load(open(\"../data/abbreviations/abbreviations_dict.pkl\", \"rb\"))"
   ]
  }
 ],
 "metadata": {
  "interpreter": {
   "hash": "f14448ed29fac7011a5c1c71d341cfa5cd5137f17fb6a211a040db6ba0e6eca6"
  },
  "kernelspec": {
   "display_name": "Python 3.9.2 64-bit ('.env': venv)",
   "name": "python3"
  },
  "language_info": {
   "codemirror_mode": {
    "name": "ipython",
    "version": 3
   },
   "file_extension": ".py",
   "mimetype": "text/x-python",
   "name": "python",
   "nbconvert_exporter": "python",
   "pygments_lexer": "ipython3",
   "version": "3.9.2"
  }
 },
 "nbformat": 4,
 "nbformat_minor": 5
}
