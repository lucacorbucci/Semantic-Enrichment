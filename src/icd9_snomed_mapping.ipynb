{
 "cells": [
  {
   "cell_type": "markdown",
   "metadata": {
    "collapsed": true,
    "pycharm": {
     "name": "#%% md\n"
    }
   },
   "source": [
    "# Mapping between ICD-9 and Snomed Ontology"
   ]
  },
  {
   "cell_type": "code",
   "execution_count": 1,
   "metadata": {
    "collapsed": false,
    "pycharm": {
     "name": "#%%\n"
    }
   },
   "outputs": [],
   "source": [
    "from typing import List, Any, Dict\n",
    "import pandas as pd\n",
    "from pymedtermino.snomedct import *\n",
    "import pickle\n",
    "sys.path.append('..')\n",
    "from lib.icd_9_snomed_mapping import ICD9SnomedMapping"
   ]
  },
  {
   "cell_type": "code",
   "execution_count": null,
   "metadata": {
    "collapsed": false,
    "pycharm": {
     "name": "#%%\n"
    }
   },
   "outputs": [],
   "source": [
    "ICD9_snomed_11 = pd.read_csv('../data/icd9_mapping/ICD9CM_SNOMED_MAP_1TO1_202012.txt', sep='\\t')\n",
    "ICD9_snomed_1M = pd.read_csv('../data/icd9_mapping/ICD9CM_SNOMED_MAP_1TOM_202012.txt', sep='\\t')\n",
    "ICD9_snomed_procedures_11 = pd.read_csv('../data/icd9_mapping/ICD9CMV3_SNOMED_MAP_1T1_202012.txt', sep='\\t')\n",
    "ICD9_snomed_procedures_1M = pd.read_csv('../data/icd9_mapping/ICD9CMV3_SNOMED_MAP_1TM_202012.txt', sep='\\t')"
   ]
  },
  {
   "cell_type": "code",
   "execution_count": null,
   "metadata": {
    "collapsed": false,
    "pycharm": {
     "name": "#%%\n"
    }
   },
   "outputs": [],
   "source": [
    "ICD_9_mapping = pd.concat([ICD9_snomed_11, ICD9_snomed_1M])"
   ]
  },
  {
   "cell_type": "code",
   "execution_count": null,
   "metadata": {
    "collapsed": false,
    "pycharm": {
     "name": "#%%\n"
    }
   },
   "outputs": [],
   "source": [
    "ICD_9_mapping['ICD_CODE'] = ICD_9_mapping['ICD_CODE'].apply(lambda x: x.replace(\".\", \"\"))\n",
    "ICD_9_mapping.shape"
   ]
  },
  {
   "cell_type": "code",
   "execution_count": null,
   "metadata": {
    "collapsed": false,
    "pycharm": {
     "name": "#%%\n"
    }
   },
   "outputs": [],
   "source": [
    "ICD_9_mapping.head()"
   ]
  },
  {
   "cell_type": "code",
   "execution_count": null,
   "metadata": {},
   "outputs": [],
   "source": [
    "dictionary = {}\n",
    "for index, row in ICD_9_mapping.iterrows():\n",
    "    dictionary[row.ICD_CODE] = row.ICD_NAME"
   ]
  },
  {
   "cell_type": "code",
   "execution_count": null,
   "metadata": {},
   "outputs": [],
   "source": [
    "pickle.dump(dictionary, open(\"../data/icd9_mapping/mapping_icd9_description.pkl\", \"wb\"))"
   ]
  },
  {
   "cell_type": "markdown",
   "metadata": {
    "collapsed": false,
    "pycharm": {
     "name": "#%% md\n"
    }
   },
   "source": [
    "## Extract the mapping between ICD-9 codes and Snomed ID"
   ]
  },
  {
   "cell_type": "code",
   "execution_count": null,
   "metadata": {
    "collapsed": false,
    "pycharm": {
     "name": "#%%\n"
    }
   },
   "outputs": [],
   "source": [
    "ICD_9_list = ICD_9_mapping['ICD_CODE'].unique()\n",
    "mapping: dict[Any, list[int]] = {}\n",
    "for code in ICD_9_list:\n",
    "    snomed_ids = []\n",
    "    for x in ICD_9_mapping[ICD_9_mapping['ICD_CODE'] == code]['SNOMED_CID'].values:\n",
    "        try:\n",
    "            snomed_ids.append(int(x))\n",
    "        except:\n",
    "            pass\n",
    "    if snomed_ids:\n",
    "        mapping[code] = snomed_ids"
   ]
  },
  {
   "cell_type": "code",
   "execution_count": null,
   "metadata": {
    "collapsed": false,
    "pycharm": {
     "name": "#%%\n"
    }
   },
   "outputs": [],
   "source": [
    "pickle.dump(mapping, open(\"../data/icd9_mapping/mapping_icd9_snomed.pkl\", \"wb\"))"
   ]
  },
  {
   "cell_type": "code",
   "execution_count": 2,
   "metadata": {},
   "outputs": [],
   "source": [
    "mapping = pickle.load(open(\"../data/icd9_mapping/mapping_icd9_snomed.pkl\", \"rb\"))"
   ]
  },
  {
   "cell_type": "markdown",
   "metadata": {
    "collapsed": false,
    "pycharm": {
     "name": "#%% md\n"
    }
   },
   "source": [
    "# Extract relations\n",
    "\n",
    "In this section we extract all the relations associated with the SNOMED IDs and we explain how we create the dictionary of relations."
   ]
  },
  {
   "cell_type": "markdown",
   "metadata": {
    "collapsed": false
   },
   "source": [
    "## Example of due_to dictionary\n",
    "\n",
    "For each ICD-9 code we consider all the corresponding SNOMED codes and then all the corresponding relations.\n",
    "\n",
    "Example:\n",
    "- The ICD-9 code 250.80 corresponds to 72 Snomed IDs\n",
    "- The due_to dictionary for the ICD-9 code 250.80 is the following one:\n",
    "\n",
    " {'Cystic fibrosis',\n",
    " 'Diabetes mellitus',\n",
    " 'Diabetes mellitus type 2',\n",
    " 'Disease of endocrine pancreas',\n",
    " 'Immune hypersensitivity reaction',\n",
    " 'Insulin resistance - type B',\n",
    " 'Ischemia',\n",
    " 'Peripheral nerve disease',\n",
    " 'Vascular disorder of lower extremity',\n",
    " 'Venous stasis syndrome'}\n",
    "\n",
    "- In this dictionary we merged the due_to relations corresponding to all the SNOMED IDs, for example:\n",
    "    - Diabetes mellitus type 2 -> SNOMED ID 422014003\n",
    "    - Diabetes mellitus -> SNOMED ID 371087003\n"
   ]
  },
  {
   "cell_type": "markdown",
   "metadata": {
    "collapsed": false,
    "pycharm": {
     "name": "#%% md\n"
    }
   },
   "source": [
    "### Extract finding sites"
   ]
  },
  {
   "cell_type": "code",
   "execution_count": 3,
   "metadata": {
    "collapsed": false,
    "pycharm": {
     "name": "#%%\n"
    }
   },
   "outputs": [],
   "source": [
    "finding_site_dict = ICD9SnomedMapping().extract_relations(mapping, 'finding_site')"
   ]
  },
  {
   "cell_type": "code",
   "execution_count": 4,
   "metadata": {
    "collapsed": false,
    "pycharm": {
     "name": "#%%\n"
    }
   },
   "outputs": [],
   "source": [
    "pickle.dump(finding_site_dict, open(\"../data/mapping_relations/finding_site.pkl\", \"wb\"))"
   ]
  },
  {
   "cell_type": "markdown",
   "metadata": {
    "collapsed": false,
    "pycharm": {
     "name": "#%% md\n"
    }
   },
   "source": [
    "### Extract causative agents"
   ]
  },
  {
   "cell_type": "code",
   "execution_count": 5,
   "metadata": {
    "collapsed": false,
    "pycharm": {
     "name": "#%%\n"
    }
   },
   "outputs": [],
   "source": [
    "causative_agent_dict = ICD9SnomedMapping().extract_relations(mapping, 'causative_agent')"
   ]
  },
  {
   "cell_type": "code",
   "execution_count": 6,
   "metadata": {
    "collapsed": false,
    "pycharm": {
     "name": "#%%\n"
    }
   },
   "outputs": [],
   "source": [
    "pickle.dump(causative_agent_dict, open(\"../data/mapping_relations/causative_agent.pkl\", \"wb\"))"
   ]
  },
  {
   "cell_type": "markdown",
   "metadata": {
    "collapsed": false,
    "pycharm": {
     "name": "#%% md\n"
    }
   },
   "source": [
    "### Extract associated morphology"
   ]
  },
  {
   "cell_type": "code",
   "execution_count": 7,
   "metadata": {
    "collapsed": false,
    "pycharm": {
     "name": "#%%\n"
    }
   },
   "outputs": [],
   "source": [
    "associated_morphology_dict = ICD9SnomedMapping().extract_relations(mapping, 'associated_morphology')"
   ]
  },
  {
   "cell_type": "code",
   "execution_count": 8,
   "metadata": {
    "collapsed": false,
    "pycharm": {
     "name": "#%%\n"
    }
   },
   "outputs": [],
   "source": [
    "pickle.dump(associated_morphology_dict, open(\"../data/mapping_relations/associated_morphology.pkl\", \"wb\"))"
   ]
  },
  {
   "cell_type": "markdown",
   "metadata": {
    "collapsed": false,
    "pycharm": {
     "name": "#%% md\n"
    }
   },
   "source": [
    "### Extract due to"
   ]
  },
  {
   "cell_type": "code",
   "execution_count": 9,
   "metadata": {
    "collapsed": false,
    "pycharm": {
     "name": "#%%\n"
    }
   },
   "outputs": [],
   "source": [
    "due_to_dict = ICD9SnomedMapping().extract_relations(mapping, 'due_to')"
   ]
  },
  {
   "cell_type": "code",
   "execution_count": 10,
   "metadata": {
    "collapsed": false,
    "pycharm": {
     "name": "#%%\n"
    }
   },
   "outputs": [],
   "source": [
    "pickle.dump(due_to_dict, open(\"../data/mapping_relations/due_to.pkl\", \"wb\"))"
   ]
  },
  {
   "cell_type": "markdown",
   "metadata": {},
   "source": [
    "## Extract Description"
   ]
  },
  {
   "cell_type": "code",
   "execution_count": 11,
   "metadata": {},
   "outputs": [],
   "source": [
    "description_dict = ICD9SnomedMapping().extract_relations(mapping, 'description')"
   ]
  },
  {
   "cell_type": "code",
   "execution_count": 12,
   "metadata": {},
   "outputs": [],
   "source": [
    "pickle.dump(description_dict, open(\"../data/mapping_relations/description.pkl\", \"wb\"))"
   ]
  }
 ],
 "metadata": {
  "interpreter": {
   "hash": "f14448ed29fac7011a5c1c71d341cfa5cd5137f17fb6a211a040db6ba0e6eca6"
  },
  "kernelspec": {
   "display_name": "Python 3.9.2 64-bit ('.env': venv)",
   "name": "python3"
  },
  "language_info": {
   "codemirror_mode": {
    "name": "ipython",
    "version": 3
   },
   "file_extension": ".py",
   "mimetype": "text/x-python",
   "name": "python",
   "nbconvert_exporter": "python",
   "pygments_lexer": "ipython3",
   "version": "3.9.2"
  }
 },
 "nbformat": 4,
 "nbformat_minor": 0
}
