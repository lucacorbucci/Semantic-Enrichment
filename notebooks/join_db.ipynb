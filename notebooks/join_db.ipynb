{
 "cells": [
  {
   "cell_type": "markdown",
   "id": "wireless-alias",
   "metadata": {},
   "source": [
    "# Join DB\n",
    "\n",
    "In this notebook we create the dataset we will use in the future. In particular we joined some of the .csv that we can find in Mimic so that we have all the informations about the hospitalizations and the clinical notes in a single dataset."
   ]
  },
  {
   "cell_type": "code",
   "execution_count": null,
   "id": "electoral-audience",
   "metadata": {},
   "outputs": [],
   "source": [
    "import pandas as pd\n",
    "import importlib\n",
    "import pickle\n",
    "import numpy as np\n",
    "from nltk.tokenize import RegexpTokenizer\n",
    "from os import listdir\n",
    "from os.path import isfile, join\n",
    "sys.path.append('..')\n",
    "from lib.utils import Utils\n",
    "import lib.NotesCleaning\n",
    "from lib.NotesCleaning import NotesCleaning\n",
    "importlib.reload(lib.NotesCleaning)\n",
    "pd.set_option('display.max_columns', None)"
   ]
  },
  {
   "cell_type": "markdown",
   "id": "2fb3fc88",
   "metadata": {
    "collapsed": false,
    "pycharm": {
     "name": "#%% md\n"
    }
   },
   "source": [
    "## Notes dataset\n",
    "\n",
    "First of all we load the csv with all the notes and then we clean it using the clean_note method."
   ]
  },
  {
   "cell_type": "code",
   "execution_count": 3,
   "id": "75800cd1",
   "metadata": {
    "collapsed": false,
    "pycharm": {
     "name": "#%%\n"
    }
   },
   "outputs": [],
   "source": [
    "notes_csv = pd.read_csv(\"../../Dati/mimic-iii-clinical-database-1.4/NOTEEVENTS.csv\", low_memory=False)"
   ]
  },
  {
   "cell_type": "code",
   "execution_count": null,
   "id": "5f94b1e8",
   "metadata": {
    "collapsed": false,
    "pycharm": {
     "name": "#%%\n"
    }
   },
   "outputs": [],
   "source": [
    "notes_csv.shape"
   ]
  },
  {
   "cell_type": "code",
   "execution_count": null,
   "id": "aa83e93d",
   "metadata": {
    "collapsed": false,
    "pycharm": {
     "name": "#%%\n"
    }
   },
   "outputs": [],
   "source": [
    "notes_csv['Cleaned_Text'] = notes_csv.TEXT.apply(lambda x: NotesCleaning().clean_note(x))"
   ]
  },
  {
   "cell_type": "code",
   "execution_count": null,
   "id": "570e6485",
   "metadata": {
    "collapsed": false,
    "pycharm": {
     "name": "#%%\n"
    }
   },
   "outputs": [],
   "source": [
    "tokenizer = RegexpTokenizer(r'\\w+')\n",
    "notes_csv['Token'] = notes_csv['Cleaned_Text'].apply(lambda x: NotesCleaning().tokenize(x, tokenizer))"
   ]
  },
  {
   "cell_type": "markdown",
   "id": "7079c337",
   "metadata": {
    "collapsed": false,
    "pycharm": {
     "name": "#%% md\n"
    }
   },
   "source": [
    "## Admission and diagnoses dataset\n",
    "\n",
    "Now we load the admission dataset and the diagnoses dataset.\n",
    "These two were cleaned using the pre_processing function of Doctor XAI."
   ]
  },
  {
   "cell_type": "code",
   "execution_count": null,
   "id": "816bd8d3",
   "metadata": {
    "collapsed": false,
    "pycharm": {
     "name": "#%%\n"
    }
   },
   "outputs": [],
   "source": [
    "# Load the already cleaned csv\n",
    "admission_df = pd.read_csv(\"../../Dati/mimic-iii-clinical-database-1.4/CSV/clean_ADMISSIONS.csv\")\n",
    "diagnoses_csv = pd.read_csv(\"../../Dati/mimic-iii-clinical-database-1.4/CSV/clean_DIAGNOSES_ICD.csv\")\n",
    "diagnoses_df = diagnoses_csv.groupby(['SUBJECT_ID','HADM_ID'], as_index=False).agg( {'ICD9_CODE':list })"
   ]
  },
  {
   "cell_type": "markdown",
   "id": "98e74026",
   "metadata": {
    "collapsed": false,
    "pycharm": {
     "name": "#%% md\n"
    }
   },
   "source": [
    "## Join the datasets"
   ]
  },
  {
   "cell_type": "code",
   "execution_count": null,
   "id": "52acce9d",
   "metadata": {
    "collapsed": false,
    "pycharm": {
     "name": "#%%\n"
    }
   },
   "outputs": [],
   "source": [
    "tmp_join = admission_df.merge(diagnoses_df, on=['SUBJECT_ID', 'HADM_ID'])"
   ]
  },
  {
   "cell_type": "code",
   "execution_count": null,
   "id": "a7b120bb",
   "metadata": {
    "collapsed": false,
    "pycharm": {
     "name": "#%%\n"
    }
   },
   "outputs": [],
   "source": [
    "df = notes_csv.merge(tmp_join, on=['SUBJECT_ID', 'HADM_ID'])"
   ]
  },
  {
   "cell_type": "code",
   "execution_count": null,
   "id": "b6c03bd8",
   "metadata": {
    "collapsed": false,
    "pycharm": {
     "name": "#%%\n"
    }
   },
   "outputs": [],
   "source": [
    "pd.set_option('display.max_columns', None)\n",
    "df.head()"
   ]
  },
  {
   "cell_type": "code",
   "execution_count": null,
   "id": "8019bfe9",
   "metadata": {
    "collapsed": false,
    "pycharm": {
     "name": "#%%\n"
    }
   },
   "outputs": [],
   "source": [
    "df.shape"
   ]
  },
  {
   "cell_type": "code",
   "execution_count": null,
   "id": "0a92ef20",
   "metadata": {
    "collapsed": false,
    "pycharm": {
     "name": "#%%\n"
    }
   },
   "outputs": [],
   "source": [
    "cleanedText = pd.DataFrame()"
   ]
  },
  {
   "cell_type": "code",
   "execution_count": null,
   "id": "04a81327",
   "metadata": {
    "collapsed": false,
    "pycharm": {
     "name": "#%%\n"
    }
   },
   "outputs": [],
   "source": [
    "cleanedText['Cleaned_Text'] = df['Cleaned_Text']"
   ]
  },
  {
   "cell_type": "code",
   "execution_count": null,
   "id": "733b4bdb",
   "metadata": {
    "collapsed": false,
    "pycharm": {
     "name": "#%%\n"
    }
   },
   "outputs": [],
   "source": [
    "cleanedText.to_csv('../data/cleanedText.csv')"
   ]
  },
  {
   "cell_type": "code",
   "execution_count": null,
   "id": "d419bbd7",
   "metadata": {
    "collapsed": false,
    "pycharm": {
     "name": "#%%\n"
    }
   },
   "outputs": [],
   "source": [
    "df = df[['SUBJECT_ID', 'HADM_ID', 'CATEGORY', 'INSURANCE', 'ADMISSION_TYPE', 'INSURANCE', 'TEXT', 'Token', 'ICD9_CODE', 'DIAGNOSIS']]"
   ]
  },
  {
   "cell_type": "code",
   "execution_count": null,
   "id": "87370419",
   "metadata": {
    "collapsed": false,
    "pycharm": {
     "name": "#%%\n"
    }
   },
   "outputs": [],
   "source": [
    "df.to_csv(\"../data/merged_dataset.csv\")"
   ]
  },
  {
   "cell_type": "markdown",
   "id": "8ffba6e3",
   "metadata": {
    "collapsed": false,
    "pycharm": {
     "name": "#%% md\n"
    }
   },
   "source": [
    "## Reduced dataset with only \"Discharge summary\" notes"
   ]
  },
  {
   "cell_type": "code",
   "execution_count": null,
   "id": "cb3cc9bf",
   "metadata": {
    "collapsed": false,
    "pycharm": {
     "name": "#%%\n"
    }
   },
   "outputs": [],
   "source": [
    "df.shape"
   ]
  },
  {
   "cell_type": "code",
   "execution_count": null,
   "id": "a56c106e",
   "metadata": {
    "collapsed": false,
    "pycharm": {
     "name": "#%%\n"
    }
   },
   "outputs": [],
   "source": [
    "df_discharge = df[df.CATEGORY == \"Discharge summary\"]"
   ]
  },
  {
   "cell_type": "code",
   "execution_count": null,
   "id": "2b01d202",
   "metadata": {
    "collapsed": false,
    "pycharm": {
     "name": "#%%\n"
    }
   },
   "outputs": [],
   "source": [
    "df_discharge.shape"
   ]
  },
  {
   "cell_type": "code",
   "execution_count": null,
   "id": "70c45a1a",
   "metadata": {
    "collapsed": false,
    "pycharm": {
     "name": "#%%\n"
    }
   },
   "outputs": [],
   "source": [
    "df_discharge.head()"
   ]
  },
  {
   "cell_type": "code",
   "execution_count": null,
   "id": "e3a9ea3e",
   "metadata": {
    "collapsed": false,
    "pycharm": {
     "name": "#%%\n"
    }
   },
   "outputs": [],
   "source": [
    "df_discharge.to_csv(\"../data/df_discharge.csv\")"
   ]
  },
  {
   "cell_type": "markdown",
   "id": "749557d9",
   "metadata": {
    "collapsed": false,
    "pycharm": {
     "name": "#%% md\n"
    }
   },
   "source": [
    "## Reduced dataset with only diabetic patients\n",
    "\n",
    "Now we reduce the size of the dataset considering only the patients that are classified with a code related with diabetes (250.00)"
   ]
  },
  {
   "cell_type": "code",
   "execution_count": null,
   "id": "5a22d059",
   "metadata": {
    "collapsed": false,
    "pycharm": {
     "name": "#%%\n"
    }
   },
   "outputs": [],
   "source": [
    "reduced_df = Utils().extract_diabete_only(df_discharge)"
   ]
  },
  {
   "cell_type": "code",
   "execution_count": null,
   "id": "fc859818",
   "metadata": {
    "collapsed": false,
    "pycharm": {
     "name": "#%%\n"
    }
   },
   "outputs": [],
   "source": [
    "reduced_df.shape"
   ]
  },
  {
   "cell_type": "code",
   "execution_count": null,
   "id": "0b900721",
   "metadata": {
    "collapsed": false,
    "pycharm": {
     "name": "#%%\n"
    }
   },
   "outputs": [],
   "source": [
    "reduced_df.to_csv(\"../data/only_diabete.csv\")"
   ]
  },
  {
   "cell_type": "markdown",
   "id": "c9e06a71",
   "metadata": {},
   "source": [
    "# Create a list with all the admissions and the diagnoses"
   ]
  },
  {
   "cell_type": "code",
   "execution_count": null,
   "id": "56f4dcaf",
   "metadata": {},
   "outputs": [],
   "source": [
    "dataset_sequences = np.load('../doctorXAI/preprocessing_doctorai/mimic_sequences.npy',allow_pickle=True)\n",
    "admission_mimic_sequences = np.load('../doctorXAI/preprocessing_doctorai/admission_mimic_sequences.npy',allow_pickle=True)"
   ]
  },
  {
   "cell_type": "code",
   "execution_count": null,
   "id": "1f5f97be",
   "metadata": {},
   "outputs": [],
   "source": [
    "admissions = []\n",
    "icd_9_list = []\n",
    "for icd_9_sequence, admission_mimic_sequences in zip(dataset_sequences, admission_mimic_sequences):\n",
    "    for code, admission in zip(icd_9_sequence, admission_mimic_sequences):\n",
    "        admissions.append(admission)\n",
    "        icd_9_list.append(code)"
   ]
  },
  {
   "cell_type": "code",
   "execution_count": null,
   "id": "890134a2",
   "metadata": {},
   "outputs": [],
   "source": [
    "admissions_and_icd_9 = {admission:code_list for admission, code_list in zip(admissions, icd_9_list)}"
   ]
  },
  {
   "cell_type": "code",
   "execution_count": null,
   "id": "aa810305",
   "metadata": {},
   "outputs": [],
   "source": [
    "df = pd.read_csv(\"../data/merged_dataset.csv\")"
   ]
  },
  {
   "cell_type": "code",
   "execution_count": null,
   "id": "5d50aff6",
   "metadata": {},
   "outputs": [],
   "source": [
    "df.head()"
   ]
  },
  {
   "cell_type": "code",
   "execution_count": null,
   "id": "3a9acd9e",
   "metadata": {},
   "outputs": [],
   "source": [
    "admissions_id = df[df['CATEGORY'] == \"Discharge summary\"]['HADM_ID'].values\n",
    "subject_id = df[df['CATEGORY'] == \"Discharge summary\"]['SUBJECT_ID'].values\n",
    "df_dict = {}\n",
    "for adm, sub in zip(admissions_id, subject_id):\n",
    "    if sub not in df_dict:\n",
    "        df_dict[sub] = [adm]\n",
    "    else:\n",
    "        df_dict[sub].append(adm)\n"
   ]
  },
  {
   "cell_type": "code",
   "execution_count": null,
   "id": "fe2beddb",
   "metadata": {},
   "outputs": [],
   "source": [
    "df_dictionary = {}\n",
    "for k in df_dict.keys():\n",
    "    icd_9_list = []\n",
    "    for code in df_dict[k]:\n",
    "        try:\n",
    "            icd_9_list.append(admissions_and_icd_9[int(code)])\n",
    "        except:\n",
    "            pass\n",
    "    if icd_9_list:\n",
    "        df_dictionary[k] = ([int(x) for x in df_dict[k]], icd_9_list)"
   ]
  },
  {
   "cell_type": "code",
   "execution_count": null,
   "id": "0f6e3b68",
   "metadata": {},
   "outputs": [],
   "source": [
    "pickle.dump(df_dictionary, open(\"../data/patient_admission_dictionary.pkl\", \"wb\"))"
   ]
  }
 ],
 "metadata": {
  "interpreter": {
   "hash": "f14448ed29fac7011a5c1c71d341cfa5cd5137f17fb6a211a040db6ba0e6eca6"
  },
  "kernelspec": {
   "display_name": "Python 3.9.2 64-bit ('.env': venv)",
   "name": "python3"
  },
  "language_info": {
   "codemirror_mode": {
    "name": "ipython",
    "version": 3
   },
   "file_extension": ".py",
   "mimetype": "text/x-python",
   "name": "python",
   "nbconvert_exporter": "python",
   "pygments_lexer": "ipython3",
   "version": "3.9.7"
  }
 },
 "nbformat": 4,
 "nbformat_minor": 5
}
