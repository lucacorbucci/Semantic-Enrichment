{
 "cells": [
  {
   "cell_type": "code",
   "execution_count": 1,
   "metadata": {
    "collapsed": false,
    "pycharm": {
     "name": "#%%\n"
    }
   },
   "outputs": [],
   "source": [
    "from pymedtermino import *\n",
    "from pymedtermino.snomedct import *"
   ]
  },
  {
   "cell_type": "markdown",
   "metadata": {
    "collapsed": false
   },
   "source": [
    "# Snomed Ontology Exploration\n",
    "\n",
    "SNOMED ontology is based on concepts, each concept has a different meaning and is labeled with a unique identifier.\n",
    "For exampale the concept 49436004 represents the \"Atrial fibrillation\".\n",
    "Each concept has one or more descriptions linked to it.\n",
    "\n",
    "\n",
    "Each concept is related to other SNOMED concepts that have logical connections to it. There are several types of relationships:\n",
    "- “Is A” Relationship\n",
    "- “Finding Site” Relationship\n",
    "- “Causative agent” Relationship\n",
    "- “Associated morphology” Relationship"
   ]
  },
  {
   "cell_type": "code",
   "execution_count": 2,
   "metadata": {
    "collapsed": false,
    "pycharm": {
     "name": "#%%\n"
    }
   },
   "outputs": [],
   "source": [
    "concept = SNOMEDCT[49436004]"
   ]
  },
  {
   "cell_type": "code",
   "execution_count": 3,
   "metadata": {
    "collapsed": false,
    "pycharm": {
     "name": "#%%\n"
    }
   },
   "outputs": [
    {
     "data": {
      "text/plain": [
       "SNOMEDCT[49436004]  # Atrial fibrillation (disorder)"
      ]
     },
     "execution_count": 3,
     "metadata": {},
     "output_type": "execute_result"
    }
   ],
   "source": [
    "concept"
   ]
  },
  {
   "cell_type": "markdown",
   "metadata": {
    "collapsed": false
   },
   "source": [
    "## \"Is A\" Relationship\n",
    "\n",
    "This relationship is used to create a hierarchical relationship between concepts. Given a concept we can find a parent of this concept that is a more general concept and a children which is more specific.\n",
    "For example given the concept \"Atrial fibrillation\", a parent is \"Fibrillation\" which is more general and a children is \"Lone atrial fibrillation\" which is more specific."
   ]
  },
  {
   "cell_type": "code",
   "execution_count": 4,
   "metadata": {
    "collapsed": false,
    "pycharm": {
     "name": "#%%\n"
    }
   },
   "outputs": [
    {
     "data": {
      "text/plain": [
       "[SNOMEDCT[17366009]  # Atrial arrhythmia (disorder),\n",
       " SNOMEDCT[40593004]  # Fibrillation (disorder)]"
      ]
     },
     "execution_count": 4,
     "metadata": {},
     "output_type": "execute_result"
    }
   ],
   "source": [
    "concept.parents"
   ]
  },
  {
   "cell_type": "code",
   "execution_count": 5,
   "metadata": {
    "collapsed": false,
    "pycharm": {
     "name": "#%%\n"
    }
   },
   "outputs": [
    {
     "data": {
      "text/plain": [
       "[SNOMEDCT[233910005]  # Lone atrial fibrillation (disorder),\n",
       " SNOMEDCT[233911009]  # Non-rheumatic atrial fibrillation (disorder),\n",
       " SNOMEDCT[282825002]  # Paroxysmal atrial fibrillation (disorder),\n",
       " SNOMEDCT[300996004]  # Controlled atrial fibrillation (disorder),\n",
       " SNOMEDCT[314208002]  # Rapid atrial fibrillation (disorder),\n",
       " SNOMEDCT[81216002]  # Atrial flutter-fibrillation (disorder),\n",
       " SNOMEDCT[195080001]  # Atrial fibrillation and flutter (disorder),\n",
       " SNOMEDCT[426749004]  # Chronic atrial fibrillation (disorder),\n",
       " SNOMEDCT[440028005]  # Permanent atrial fibrillation (disorder),\n",
       " SNOMEDCT[440059007]  # Persistent atrial fibrillation (disorder),\n",
       " SNOMEDCT[120041000119109]  # Atrial fibrillation with rapid ventricular response (disorder),\n",
       " SNOMEDCT[715395008]  # Familial atrial fibrillation (disorder)]"
      ]
     },
     "execution_count": 5,
     "metadata": {},
     "output_type": "execute_result"
    }
   ],
   "source": [
    "concept.children"
   ]
  },
  {
   "cell_type": "markdown",
   "metadata": {
    "collapsed": false,
    "pycharm": {
     "name": "#%% md\n"
    }
   },
   "source": [
    "## \"Finding Site\" Relationship\n",
    "\n",
    "This relationship is used to identify the part of the body affected by the disease.\n"
   ]
  },
  {
   "cell_type": "code",
   "execution_count": 6,
   "metadata": {
    "collapsed": false,
    "pycharm": {
     "name": "#%%\n"
    }
   },
   "outputs": [
    {
     "data": {
      "text/plain": [
       "SNOMEDCT[49436004]  # Atrial fibrillation (disorder)"
      ]
     },
     "execution_count": 6,
     "metadata": {},
     "output_type": "execute_result"
    }
   ],
   "source": [
    "concept = SNOMEDCT[49436004]\n",
    "concept"
   ]
  },
  {
   "cell_type": "code",
   "execution_count": 7,
   "metadata": {
    "collapsed": false,
    "pycharm": {
     "name": "#%%\n"
    }
   },
   "outputs": [
    {
     "data": {
      "text/plain": [
       "[SNOMEDCT[59652004]  # Atrial structure (body structure),\n",
       " SNOMEDCT[24964005]  # Cardiac conducting system structure (body structure)]"
      ]
     },
     "execution_count": 7,
     "metadata": {},
     "output_type": "execute_result"
    }
   ],
   "source": [
    "concept.finding_site"
   ]
  },
  {
   "cell_type": "markdown",
   "metadata": {
    "collapsed": false
   },
   "source": [
    "## \"Causative agent\" Relationship\n",
    "\n",
    "This relation identify the cause of the disease.\n",
    "We can access this relationship using the attribute \"due_to\" if it is accessible.\n",
    "Another interesting attribute is \"INVERSE_due_to\".\n",
    "\n",
    "As an example we can consider the concept \"Transient cerebral ischemia due to atrial fibrillation\". The attribute \"due_to\" of this concept is \"Atrial fibrillation\".\n",
    "At the same time if we consider the concept \"Atrial fibrillation\", we can access the attribute \"INVERSE_due_to\" which is \"Transient cerebral ischemia due to atrial fibrillation\""
   ]
  },
  {
   "cell_type": "code",
   "execution_count": 8,
   "metadata": {
    "collapsed": false,
    "pycharm": {
     "name": "#%%\n"
    }
   },
   "outputs": [
    {
     "data": {
      "text/plain": [
       "SNOMEDCT[426814001]  # Transient cerebral ischemia due to atrial fibrillation (disorder)"
      ]
     },
     "execution_count": 8,
     "metadata": {},
     "output_type": "execute_result"
    }
   ],
   "source": [
    "concept = SNOMEDCT[426814001]\n",
    "concept"
   ]
  },
  {
   "cell_type": "code",
   "execution_count": 9,
   "metadata": {
    "collapsed": false,
    "pycharm": {
     "name": "#%%\n"
    }
   },
   "outputs": [
    {
     "data": {
      "text/plain": [
       "[SNOMEDCT[49436004]  # Atrial fibrillation (disorder)]"
      ]
     },
     "execution_count": 9,
     "metadata": {},
     "output_type": "execute_result"
    }
   ],
   "source": [
    "concept.due_to"
   ]
  },
  {
   "cell_type": "code",
   "execution_count": 10,
   "metadata": {
    "collapsed": false,
    "pycharm": {
     "name": "#%%\n"
    }
   },
   "outputs": [
    {
     "data": {
      "text/plain": [
       "{'INVERSE_associated_finding',\n",
       " 'INVERSE_due_to',\n",
       " 'INVERSE_has_focus',\n",
       " 'finding_site'}"
      ]
     },
     "execution_count": 10,
     "metadata": {},
     "output_type": "execute_result"
    }
   ],
   "source": [
    "concept = SNOMEDCT[49436004]\n",
    "concept.relations"
   ]
  },
  {
   "cell_type": "code",
   "execution_count": 11,
   "metadata": {
    "collapsed": false,
    "pycharm": {
     "name": "#%%\n"
    }
   },
   "outputs": [
    {
     "data": {
      "text/plain": [
       "[SNOMEDCT[426814001]  # Transient cerebral ischemia due to atrial fibrillation (disorder)]"
      ]
     },
     "execution_count": 11,
     "metadata": {},
     "output_type": "execute_result"
    }
   ],
   "source": [
    "concept.INVERSE_due_to"
   ]
  },
  {
   "cell_type": "markdown",
   "metadata": {
    "collapsed": false
   },
   "source": [
    "## \"Associated morphology\" Relationship\n",
    "\n",
    "This relation indentifies the abnormal physical condition that is caused by the disease."
   ]
  },
  {
   "cell_type": "code",
   "execution_count": 12,
   "metadata": {
    "collapsed": false,
    "pycharm": {
     "name": "#%%\n"
    }
   },
   "outputs": [
    {
     "data": {
      "text/plain": [
       "SNOMEDCT[186675001]  # Viral pharyngoconjunctivitis (disorder)"
      ]
     },
     "execution_count": 12,
     "metadata": {},
     "output_type": "execute_result"
    }
   ],
   "source": [
    "concept = SNOMEDCT[186675001]\n",
    "concept"
   ]
  },
  {
   "cell_type": "code",
   "execution_count": 13,
   "metadata": {
    "collapsed": false,
    "pycharm": {
     "name": "#%%\n"
    }
   },
   "outputs": [
    {
     "data": {
      "text/plain": [
       "[SNOMEDCT[23583003]  # Inflammation (morphologic abnormality),\n",
       " SNOMEDCT[409774005]  # Inflammatory morphology (morphologic abnormality)]"
      ]
     },
     "execution_count": 13,
     "metadata": {},
     "output_type": "execute_result"
    }
   ],
   "source": [
    "concept.associated_morphology"
   ]
  },
  {
   "cell_type": "markdown",
   "metadata": {
    "collapsed": false
   },
   "source": [
    "## \"associated_clinical_findings()\" Relationship\n",
    "\n",
    "The associated_clinical_findings() method lists all clinical signs associated to an anatomical concept or a morphology, including their descendants or descendant parts. For example for listing all clinical findings affecting cardiac structures"
   ]
  },
  {
   "cell_type": "code",
   "execution_count": 14,
   "metadata": {
    "collapsed": false,
    "pycharm": {
     "name": "#%%\n"
    }
   },
   "outputs": [
    {
     "data": {
      "text/plain": [
       "SNOMEDCT[3424008]  # Tachycardia (finding)"
      ]
     },
     "execution_count": 14,
     "metadata": {},
     "output_type": "execute_result"
    }
   ],
   "source": [
    "concept = SNOMEDCT[3424008]\n",
    "concept"
   ]
  },
  {
   "cell_type": "code",
   "execution_count": 15,
   "metadata": {
    "collapsed": false,
    "pycharm": {
     "name": "#%%\n"
    }
   },
   "outputs": [
    {
     "data": {
      "text/plain": [
       "[SNOMEDCT[420002000]  # Left atrial incisional tachycardia (disorder),\n",
       " SNOMEDCT[120041000119109]  # Atrial fibrillation with rapid ventricular response (disorder),\n",
       " SNOMEDCT[233899006]  # Antidromic atrioventricular re-entrant tachycardia (disorder),\n",
       " SNOMEDCT[419671004]  # Catecholaminergic polymorphic ventricular tachycardia (disorder),\n",
       " SNOMEDCT[233900001]  # Supraventricular tachycardia with functional bundle branch block (disorder),\n",
       " SNOMEDCT[419752005]  # Sinoatrial nodal reentrant tachycardia (disorder),\n",
       " SNOMEDCT[233901002]  # His bundle tachycardia (disorder),\n",
       " SNOMEDCT[419166005]  # Junctional ectopic tachycardia (disorder),\n",
       " SNOMEDCT[233902009]  # Congenital His bundle tachycardia (disorder),\n",
       " SNOMEDCT[418872003]  # Fascicular ventricular tachycardia (disorder)]"
      ]
     },
     "execution_count": 15,
     "metadata": {},
     "output_type": "execute_result"
    }
   ],
   "source": [
    "list(concept.associated_clinical_findings())[0:10]"
   ]
  },
  {
   "cell_type": "markdown",
   "metadata": {
    "collapsed": false
   },
   "source": [
    "## Other Relations"
   ]
  },
  {
   "cell_type": "code",
   "execution_count": 16,
   "metadata": {
    "collapsed": false,
    "pycharm": {
     "name": "#%%\n"
    }
   },
   "outputs": [
    {
     "data": {
      "text/plain": [
       "SNOMEDCT[3424008]  # Tachycardia (finding)"
      ]
     },
     "execution_count": 16,
     "metadata": {},
     "output_type": "execute_result"
    }
   ],
   "source": [
    "concept = SNOMEDCT[3424008]\n",
    "concept"
   ]
  },
  {
   "cell_type": "code",
   "execution_count": 17,
   "metadata": {
    "collapsed": false,
    "pycharm": {
     "name": "#%%\n"
    }
   },
   "outputs": [
    {
     "data": {
      "text/plain": [
       "{'INVERSE_associated_finding',\n",
       " 'INVERSE_associated_with',\n",
       " 'INVERSE_has_definitional_manifestation',\n",
       " 'finding_site',\n",
       " 'has_interpretation',\n",
       " 'interprets'}"
      ]
     },
     "execution_count": 17,
     "metadata": {},
     "output_type": "execute_result"
    }
   ],
   "source": [
    "concept.relations"
   ]
  },
  {
   "cell_type": "code",
   "execution_count": 18,
   "metadata": {
    "collapsed": false,
    "pycharm": {
     "name": "#%%\n"
    }
   },
   "outputs": [
    {
     "data": {
      "text/plain": [
       "[SNOMEDCT[162992001]  # On examination - pulse rate tachycardia (context-dependent category),\n",
       " SNOMEDCT[274248009]  # Tachycardia [D] (finding)]"
      ]
     },
     "execution_count": 18,
     "metadata": {},
     "output_type": "execute_result"
    }
   ],
   "source": [
    "concept.INVERSE_associated_finding"
   ]
  },
  {
   "cell_type": "code",
   "execution_count": 19,
   "metadata": {
    "collapsed": false,
    "pycharm": {
     "name": "#%%\n"
    }
   },
   "outputs": [
    {
     "data": {
      "text/plain": [
       "[SNOMEDCT[426300009]  # Tachycardia-induced cardiomyopathy (disorder)]"
      ]
     },
     "execution_count": 19,
     "metadata": {},
     "output_type": "execute_result"
    }
   ],
   "source": [
    "concept.INVERSE_associated_with"
   ]
  },
  {
   "cell_type": "code",
   "execution_count": 20,
   "metadata": {
    "collapsed": false,
    "pycharm": {
     "name": "#%%\n"
    }
   },
   "outputs": [
    {
     "data": {
      "text/plain": [
       "[SNOMEDCT[413342000]  # Neonatal tachycardia (disorder),\n",
       " SNOMEDCT[195069001]  # Paroxysmal atrial tachycardia (disorder),\n",
       " SNOMEDCT[195070000]  # Paroxysmal atrioventricular tachycardia (disorder),\n",
       " SNOMEDCT[233895000]  # Ectopic atrioventricular node tachycardia (disorder),\n",
       " SNOMEDCT[233896004]  # Re-entrant atrioventricular node tachycardia (disorder),\n",
       " SNOMEDCT[233897008]  # Re-entrant atrioventricular tachycardia (disorder),\n",
       " SNOMEDCT[233898003]  # Orthodromic atrioventricular re-entrant tachycardia (disorder),\n",
       " SNOMEDCT[233899006]  # Antidromic atrioventricular re-entrant tachycardia (disorder),\n",
       " SNOMEDCT[233900001]  # Supraventricular tachycardia with functional bundle branch block (disorder),\n",
       " SNOMEDCT[233901002]  # His bundle tachycardia (disorder)]"
      ]
     },
     "execution_count": 20,
     "metadata": {},
     "output_type": "execute_result"
    }
   ],
   "source": [
    "list(concept.INVERSE_has_definitional_manifestation)[0:10]"
   ]
  },
  {
   "cell_type": "code",
   "execution_count": 21,
   "metadata": {
    "collapsed": false,
    "pycharm": {
     "name": "#%%\n"
    }
   },
   "outputs": [
    {
     "data": {
      "text/plain": [
       "[SNOMEDCT[128427003]  # Cardiac structure (body structure),\n",
       " SNOMEDCT[23074001]  # Structure of facial artery (body structure),\n",
       " SNOMEDCT[69105007]  # Carotid artery structure (body structure),\n",
       " SNOMEDCT[10293006]  # Structure of iliac artery (body structure),\n",
       " SNOMEDCT[86547008]  # Structure of dorsalis pedis artery (body structure),\n",
       " SNOMEDCT[43899006]  # Structure of popliteal artery (body structure),\n",
       " SNOMEDCT[17137000]  # Structure of brachial artery (body structure),\n",
       " SNOMEDCT[45631007]  # Structure of radial artery (body structure),\n",
       " SNOMEDCT[7657000]  # Structure of femoral artery (body structure),\n",
       " SNOMEDCT[15672000]  # Structure of superficial temporal artery (body structure)]"
      ]
     },
     "execution_count": 21,
     "metadata": {},
     "output_type": "execute_result"
    }
   ],
   "source": [
    "list(concept.finding_site)[0:10]"
   ]
  },
  {
   "cell_type": "code",
   "execution_count": 22,
   "metadata": {
    "collapsed": false,
    "pycharm": {
     "name": "#%%\n"
    }
   },
   "outputs": [
    {
     "data": {
      "text/plain": [
       "[SNOMEDCT[35105006]  # Increased (qualifier value)]"
      ]
     },
     "execution_count": 22,
     "metadata": {},
     "output_type": "execute_result"
    }
   ],
   "source": [
    "concept.has_interpretation"
   ]
  },
  {
   "cell_type": "code",
   "execution_count": 23,
   "metadata": {
    "collapsed": false,
    "pycharm": {
     "name": "#%%\n"
    }
   },
   "outputs": [
    {
     "data": {
      "text/plain": [
       "[SNOMEDCT[78564009]  # Pulse rate (observable entity),\n",
       " SNOMEDCT[70337006]  # Cardiovascular function (function),\n",
       " SNOMEDCT[364075005]  # Heart rate (observable entity)]"
      ]
     },
     "execution_count": 23,
     "metadata": {},
     "output_type": "execute_result"
    }
   ],
   "source": [
    "concept.interprets"
   ]
  }
 ],
 "metadata": {
  "kernelspec": {
   "display_name": "Python 3",
   "language": "python",
   "name": "python3"
  },
  "language_info": {
   "codemirror_mode": {
    "name": "ipython",
    "version": 3
   },
   "file_extension": ".py",
   "mimetype": "text/x-python",
   "name": "python",
   "nbconvert_exporter": "python",
   "pygments_lexer": "ipython3",
   "version": "3.9.7"
  }
 },
 "nbformat": 4,
 "nbformat_minor": 0
}
