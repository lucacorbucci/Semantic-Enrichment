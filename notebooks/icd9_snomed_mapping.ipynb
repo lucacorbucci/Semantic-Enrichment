{
 "cells": [
  {
   "cell_type": "markdown",
   "metadata": {
    "collapsed": true,
    "pycharm": {
     "name": "#%% md\n"
    }
   },
   "source": [
    "# Mapping between ICD-9 and Snomed Ontology"
   ]
  },
  {
   "cell_type": "code",
   "execution_count": 41,
   "metadata": {
    "collapsed": false,
    "pycharm": {
     "name": "#%%\n"
    }
   },
   "outputs": [],
   "source": [
    "from typing import List, Any, Dict\n",
    "import pandas as pd\n",
    "from pymedtermino.snomedct import *\n",
    "import pickle\n",
    "sys.path.append('..')\n",
    "from lib.icd_9_snomed_mapping import ICD9SnomedMapping"
   ]
  },
  {
   "cell_type": "code",
   "execution_count": 42,
   "metadata": {
    "collapsed": false,
    "pycharm": {
     "name": "#%%\n"
    }
   },
   "outputs": [],
   "source": [
    "ICD9_snomed_11 = pd.read_csv('../data/icd9_mapping/ICD9CM_SNOMED_MAP_1TO1_202012.txt', sep='\\t')\n",
    "ICD9_snomed_1M = pd.read_csv('../data/icd9_mapping/ICD9CM_SNOMED_MAP_1TOM_202012.txt', sep='\\t')\n",
    "ICD9_snomed_procedures_11 = pd.read_csv('../data/icd9_mapping/ICD9CMV3_SNOMED_MAP_1T1_202012.txt', sep='\\t')\n",
    "ICD9_snomed_procedures_1M = pd.read_csv('../data/icd9_mapping/ICD9CMV3_SNOMED_MAP_1TM_202012.txt', sep='\\t')"
   ]
  },
  {
   "cell_type": "code",
   "execution_count": 43,
   "metadata": {
    "collapsed": false,
    "pycharm": {
     "name": "#%%\n"
    }
   },
   "outputs": [],
   "source": [
    "ICD_9_mapping = pd.concat([ICD9_snomed_11, ICD9_snomed_1M])"
   ]
  },
  {
   "cell_type": "code",
   "execution_count": 44,
   "metadata": {
    "collapsed": false,
    "pycharm": {
     "name": "#%%\n"
    }
   },
   "outputs": [
    {
     "data": {
      "text/plain": [
       "(49217, 12)"
      ]
     },
     "execution_count": 44,
     "metadata": {},
     "output_type": "execute_result"
    }
   ],
   "source": [
    "ICD_9_mapping['ICD_CODE'] = ICD_9_mapping['ICD_CODE'].apply(lambda x: x.replace(\".\", \"\"))\n",
    "ICD_9_mapping.shape"
   ]
  },
  {
   "cell_type": "code",
   "execution_count": 45,
   "metadata": {
    "collapsed": false,
    "pycharm": {
     "name": "#%%\n"
    }
   },
   "outputs": [
    {
     "data": {
      "text/html": [
       "<div>\n",
       "<style scoped>\n",
       "    .dataframe tbody tr th:only-of-type {\n",
       "        vertical-align: middle;\n",
       "    }\n",
       "\n",
       "    .dataframe tbody tr th {\n",
       "        vertical-align: top;\n",
       "    }\n",
       "\n",
       "    .dataframe thead th {\n",
       "        text-align: right;\n",
       "    }\n",
       "</style>\n",
       "<table border=\"1\" class=\"dataframe\">\n",
       "  <thead>\n",
       "    <tr style=\"text-align: right;\">\n",
       "      <th></th>\n",
       "      <th>ICD_CODE</th>\n",
       "      <th>ICD_NAME</th>\n",
       "      <th>IS_CURRENT_ICD</th>\n",
       "      <th>IP_USAGE</th>\n",
       "      <th>OP_USAGE</th>\n",
       "      <th>AVG_USAGE</th>\n",
       "      <th>IS_NEC</th>\n",
       "      <th>SNOMED_CID</th>\n",
       "      <th>SNOMED_FSN</th>\n",
       "      <th>IS_1-1MAP</th>\n",
       "      <th>CORE_USAGE</th>\n",
       "      <th>IN_CORE</th>\n",
       "    </tr>\n",
       "  </thead>\n",
       "  <tbody>\n",
       "    <tr>\n",
       "      <th>0</th>\n",
       "      <td>42731</td>\n",
       "      <td>Atrial fibrillation</td>\n",
       "      <td>1</td>\n",
       "      <td>1.89778</td>\n",
       "      <td>3.20644</td>\n",
       "      <td>2.552110</td>\n",
       "      <td>0.0</td>\n",
       "      <td>49436004.0</td>\n",
       "      <td>Atrial fibrillation (disorder)</td>\n",
       "      <td>1</td>\n",
       "      <td>0.4990</td>\n",
       "      <td>1</td>\n",
       "    </tr>\n",
       "    <tr>\n",
       "      <th>1</th>\n",
       "      <td>5990</td>\n",
       "      <td>Urinary tract infection, site not specified</td>\n",
       "      <td>1</td>\n",
       "      <td>2.13933</td>\n",
       "      <td>1.65330</td>\n",
       "      <td>1.896315</td>\n",
       "      <td>0.0</td>\n",
       "      <td>68566005.0</td>\n",
       "      <td>Urinary tract infectious disease (disorder)</td>\n",
       "      <td>1</td>\n",
       "      <td>0.5362</td>\n",
       "      <td>1</td>\n",
       "    </tr>\n",
       "    <tr>\n",
       "      <th>2</th>\n",
       "      <td>486</td>\n",
       "      <td>Pneumonia, organism unspecified</td>\n",
       "      <td>1</td>\n",
       "      <td>3.41760</td>\n",
       "      <td>0.30077</td>\n",
       "      <td>1.859185</td>\n",
       "      <td>0.0</td>\n",
       "      <td>233604007.0</td>\n",
       "      <td>Pneumonia (disorder)</td>\n",
       "      <td>1</td>\n",
       "      <td>0.4722</td>\n",
       "      <td>1</td>\n",
       "    </tr>\n",
       "    <tr>\n",
       "      <th>3</th>\n",
       "      <td>5856</td>\n",
       "      <td>End stage renal disease</td>\n",
       "      <td>1</td>\n",
       "      <td>0.04875</td>\n",
       "      <td>3.23327</td>\n",
       "      <td>1.641010</td>\n",
       "      <td>0.0</td>\n",
       "      <td>46177005.0</td>\n",
       "      <td>End-stage renal disease (disorder)</td>\n",
       "      <td>1</td>\n",
       "      <td>0.0057</td>\n",
       "      <td>1</td>\n",
       "    </tr>\n",
       "    <tr>\n",
       "      <th>4</th>\n",
       "      <td>41401</td>\n",
       "      <td>Coronary atherosclerosis of native coronary ar...</td>\n",
       "      <td>1</td>\n",
       "      <td>2.58624</td>\n",
       "      <td>0.68026</td>\n",
       "      <td>1.633250</td>\n",
       "      <td>0.0</td>\n",
       "      <td>53741008.0</td>\n",
       "      <td>Coronary arteriosclerosis (disorder)</td>\n",
       "      <td>1</td>\n",
       "      <td>0.8621</td>\n",
       "      <td>1</td>\n",
       "    </tr>\n",
       "  </tbody>\n",
       "</table>\n",
       "</div>"
      ],
      "text/plain": [
       "  ICD_CODE                                           ICD_NAME  IS_CURRENT_ICD  \\\n",
       "0    42731                                Atrial fibrillation               1   \n",
       "1     5990        Urinary tract infection, site not specified               1   \n",
       "2      486                    Pneumonia, organism unspecified               1   \n",
       "3     5856                            End stage renal disease               1   \n",
       "4    41401  Coronary atherosclerosis of native coronary ar...               1   \n",
       "\n",
       "   IP_USAGE  OP_USAGE  AVG_USAGE  IS_NEC   SNOMED_CID  \\\n",
       "0   1.89778   3.20644   2.552110     0.0   49436004.0   \n",
       "1   2.13933   1.65330   1.896315     0.0   68566005.0   \n",
       "2   3.41760   0.30077   1.859185     0.0  233604007.0   \n",
       "3   0.04875   3.23327   1.641010     0.0   46177005.0   \n",
       "4   2.58624   0.68026   1.633250     0.0   53741008.0   \n",
       "\n",
       "                                    SNOMED_FSN  IS_1-1MAP  CORE_USAGE  IN_CORE  \n",
       "0               Atrial fibrillation (disorder)          1      0.4990        1  \n",
       "1  Urinary tract infectious disease (disorder)          1      0.5362        1  \n",
       "2                         Pneumonia (disorder)          1      0.4722        1  \n",
       "3           End-stage renal disease (disorder)          1      0.0057        1  \n",
       "4         Coronary arteriosclerosis (disorder)          1      0.8621        1  "
      ]
     },
     "execution_count": 45,
     "metadata": {},
     "output_type": "execute_result"
    }
   ],
   "source": [
    "ICD_9_mapping.head()"
   ]
  },
  {
   "cell_type": "code",
   "execution_count": 46,
   "metadata": {},
   "outputs": [],
   "source": [
    "dictionary = {}\n",
    "for index, row in ICD_9_mapping.iterrows():\n",
    "    dictionary[row.ICD_CODE] = row.ICD_NAME"
   ]
  },
  {
   "cell_type": "code",
   "execution_count": 47,
   "metadata": {},
   "outputs": [],
   "source": [
    "pickle.dump(dictionary, open(\"../data/icd9_mapping/mapping_icd9_description.pkl\", \"wb\"))"
   ]
  },
  {
   "cell_type": "markdown",
   "metadata": {
    "collapsed": false,
    "pycharm": {
     "name": "#%% md\n"
    }
   },
   "source": [
    "## Extract the mapping between ICD-9 codes and Snomed ID"
   ]
  },
  {
   "cell_type": "code",
   "execution_count": 48,
   "metadata": {
    "collapsed": false,
    "pycharm": {
     "name": "#%%\n"
    }
   },
   "outputs": [],
   "source": [
    "ICD_9_list = ICD_9_mapping['ICD_CODE'].unique()\n",
    "mapping: dict[Any, list[int]] = {}\n",
    "for code in ICD_9_list:\n",
    "    snomed_ids = []\n",
    "    for x in ICD_9_mapping[ICD_9_mapping['ICD_CODE'] == code]['SNOMED_CID'].values:\n",
    "        try:\n",
    "            snomed_ids.append(int(x))\n",
    "        except:\n",
    "            pass\n",
    "    if snomed_ids:\n",
    "        mapping[code] = snomed_ids"
   ]
  },
  {
   "cell_type": "code",
   "execution_count": 49,
   "metadata": {
    "collapsed": false,
    "pycharm": {
     "name": "#%%\n"
    }
   },
   "outputs": [],
   "source": [
    "pickle.dump(mapping, open(\"../data/icd9_mapping/mapping_icd9_snomed.pkl\", \"wb\"))"
   ]
  },
  {
   "cell_type": "code",
   "execution_count": 50,
   "metadata": {},
   "outputs": [],
   "source": [
    "mapping = pickle.load(open(\"../data/icd9_mapping/mapping_icd9_snomed.pkl\", \"rb\"))"
   ]
  },
  {
   "cell_type": "markdown",
   "metadata": {
    "collapsed": false,
    "pycharm": {
     "name": "#%% md\n"
    }
   },
   "source": [
    "# Extract relations\n",
    "\n",
    "In this section we extract all the relations associated with the SNOMED IDs and we explain how we create the dictionary of relations."
   ]
  },
  {
   "cell_type": "markdown",
   "metadata": {
    "collapsed": false
   },
   "source": [
    "## Example of due_to dictionary\n",
    "\n",
    "For each ICD-9 code we consider all the corresponding SNOMED codes and then all the corresponding relations.\n",
    "\n",
    "Example:\n",
    "- The ICD-9 code 250.80 corresponds to 72 Snomed IDs\n",
    "- The due_to dictionary for the ICD-9 code 250.80 is the following one:\n",
    "\n",
    " {'Cystic fibrosis',\n",
    " 'Diabetes mellitus',\n",
    " 'Diabetes mellitus type 2',\n",
    " 'Disease of endocrine pancreas',\n",
    " 'Immune hypersensitivity reaction',\n",
    " 'Insulin resistance - type B',\n",
    " 'Ischemia',\n",
    " 'Peripheral nerve disease',\n",
    " 'Vascular disorder of lower extremity',\n",
    " 'Venous stasis syndrome'}\n",
    "\n",
    "- In this dictionary we merged the due_to relations corresponding to all the SNOMED IDs, for example:\n",
    "    - Diabetes mellitus type 2 -> SNOMED ID 422014003\n",
    "    - Diabetes mellitus -> SNOMED ID 371087003\n"
   ]
  },
  {
   "cell_type": "markdown",
   "metadata": {
    "collapsed": false,
    "pycharm": {
     "name": "#%% md\n"
    }
   },
   "source": [
    "### Extract finding sites"
   ]
  },
  {
   "cell_type": "code",
   "execution_count": 51,
   "metadata": {
    "collapsed": false,
    "pycharm": {
     "name": "#%%\n"
    }
   },
   "outputs": [],
   "source": [
    "finding_site_dict = ICD9SnomedMapping().extract_relations(mapping, 'finding_site')"
   ]
  },
  {
   "cell_type": "code",
   "execution_count": 52,
   "metadata": {
    "collapsed": false,
    "pycharm": {
     "name": "#%%\n"
    }
   },
   "outputs": [],
   "source": [
    "pickle.dump(finding_site_dict, open(\"../data/mapping_relations/finding_site.pkl\", \"wb\"))"
   ]
  },
  {
   "cell_type": "markdown",
   "metadata": {
    "collapsed": false,
    "pycharm": {
     "name": "#%% md\n"
    }
   },
   "source": [
    "### Extract causative agents"
   ]
  },
  {
   "cell_type": "code",
   "execution_count": 53,
   "metadata": {
    "collapsed": false,
    "pycharm": {
     "name": "#%%\n"
    }
   },
   "outputs": [],
   "source": [
    "causative_agent_dict = ICD9SnomedMapping().extract_relations(mapping, 'causative_agent')"
   ]
  },
  {
   "cell_type": "code",
   "execution_count": 54,
   "metadata": {
    "collapsed": false,
    "pycharm": {
     "name": "#%%\n"
    }
   },
   "outputs": [],
   "source": [
    "pickle.dump(causative_agent_dict, open(\"../data/mapping_relations/causative_agent.pkl\", \"wb\"))"
   ]
  },
  {
   "cell_type": "markdown",
   "metadata": {
    "collapsed": false,
    "pycharm": {
     "name": "#%% md\n"
    }
   },
   "source": [
    "### Extract associated morphology"
   ]
  },
  {
   "cell_type": "code",
   "execution_count": 55,
   "metadata": {
    "collapsed": false,
    "pycharm": {
     "name": "#%%\n"
    }
   },
   "outputs": [],
   "source": [
    "associated_morphology_dict = ICD9SnomedMapping().extract_relations(mapping, 'associated_morphology')"
   ]
  },
  {
   "cell_type": "code",
   "execution_count": 56,
   "metadata": {
    "collapsed": false,
    "pycharm": {
     "name": "#%%\n"
    }
   },
   "outputs": [],
   "source": [
    "pickle.dump(associated_morphology_dict, open(\"../data/mapping_relations/associated_morphology.pkl\", \"wb\"))"
   ]
  },
  {
   "cell_type": "markdown",
   "metadata": {
    "collapsed": false,
    "pycharm": {
     "name": "#%% md\n"
    }
   },
   "source": [
    "### Extract due to"
   ]
  },
  {
   "cell_type": "code",
   "execution_count": 57,
   "metadata": {
    "collapsed": false,
    "pycharm": {
     "name": "#%%\n"
    }
   },
   "outputs": [],
   "source": [
    "due_to_dict = ICD9SnomedMapping().extract_relations(mapping, 'due_to')"
   ]
  },
  {
   "cell_type": "code",
   "execution_count": 58,
   "metadata": {
    "collapsed": false,
    "pycharm": {
     "name": "#%%\n"
    }
   },
   "outputs": [],
   "source": [
    "pickle.dump(due_to_dict, open(\"../data/mapping_relations/due_to.pkl\", \"wb\"))"
   ]
  },
  {
   "cell_type": "markdown",
   "metadata": {},
   "source": [
    "## Extract Description"
   ]
  },
  {
   "cell_type": "code",
   "execution_count": 59,
   "metadata": {},
   "outputs": [],
   "source": [
    "description_dict = ICD9SnomedMapping().extract_relations(mapping, 'description')"
   ]
  },
  {
   "cell_type": "code",
   "execution_count": 60,
   "metadata": {},
   "outputs": [],
   "source": [
    "pickle.dump(description_dict, open(\"../data/mapping_relations/description.pkl\", \"wb\"))"
   ]
  }
 ],
 "metadata": {
  "interpreter": {
   "hash": "f14448ed29fac7011a5c1c71d341cfa5cd5137f17fb6a211a040db6ba0e6eca6"
  },
  "kernelspec": {
   "display_name": "Python 3.9.2 64-bit ('.env': venv)",
   "name": "python3"
  },
  "language_info": {
   "codemirror_mode": {
    "name": "ipython",
    "version": 3
   },
   "file_extension": ".py",
   "mimetype": "text/x-python",
   "name": "python",
   "nbconvert_exporter": "python",
   "pygments_lexer": "ipython3",
   "version": "3.9.7"
  }
 },
 "nbformat": 4,
 "nbformat_minor": 0
}
