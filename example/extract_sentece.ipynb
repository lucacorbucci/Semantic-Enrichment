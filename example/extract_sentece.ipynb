{
 "cells": [
  {
   "cell_type": "code",
   "execution_count": 1,
   "metadata": {},
   "outputs": [],
   "source": [
    "import numpy as np\n",
    "import sys\n",
    "sys.path.append('..')\n",
    "from lib.doctorailib.doctorailib import doctorai\n",
    "from lib.doctorXAIlib.doctorXAIlib import doctorXAI\n",
    "import pickle\n",
    "from lib.embedding_utils import EmbeddingUtils, Embedding, EmbeddingType\n",
    "from lib.utils_similarity import UtilsSimilarity\n",
    "from lib.utils import Utils\n",
    "from lib.semantic_enrichment import SemanticEnrichment, WindowStore\n",
    "from lib.NotesCleaning import NotesCleaning\n",
    "import gensim\n",
    "import pandas as pd\n",
    "import json\n",
    "from transformers import AutoTokenizer, AutoModel\n",
    "import torch\n",
    "import torch.nn.functional as f\n",
    "import numpy as np\n",
    "import pandas as pd"
   ]
  },
  {
   "cell_type": "markdown",
   "metadata": {},
   "source": [
    "## Load Data"
   ]
  },
  {
   "cell_type": "code",
   "execution_count": 13,
   "metadata": {},
   "outputs": [],
   "source": [
    "# Load preliminary files\n",
    "patient_admission_dictionary = pickle.load(open('../data/patient_admission_dictionary.pkl', 'rb'))\n",
    "mapping_icd9_description = pickle.load(open(\"../data/icd9_mapping/mapping_icd9_description.pkl\", \"rb\"))\n",
    "description_dict = pickle.load(open(\"../data/mapping_relations/description.pkl\",'rb'))\n",
    "associated_morphology_dict = pickle.load(open(\"../data/mapping_relations/associated_morphology.pkl\",'rb'))\n",
    "due_to_dict = pickle.load(open(\"../data/mapping_relations/due_to.pkl\",'rb'))\n",
    "finding_site_dict = pickle.load(open(\"../data/mapping_relations/finding_site.pkl\",'rb'))"
   ]
  },
  {
   "cell_type": "code",
   "execution_count": null,
   "metadata": {},
   "outputs": [],
   "source": [
    "# Load dataset\n",
    "df = pd.read_csv(\"../data/df_discharge.csv\")"
   ]
  },
  {
   "cell_type": "code",
   "execution_count": 3,
   "metadata": {},
   "outputs": [],
   "source": [
    "# Load BioWordVec embedding\n",
    "word2vec_model = gensim.models.KeyedVectors.load_word2vec_format(\n",
    "    '../data/embeddings/BioWordVec_PubMed_MIMICIII_d200.vec.bin',\n",
    "    binary=True,\n",
    "    limit=int(4E7)\n",
    ")\n",
    "embedding = Embedding(EmbeddingType.BIOWORDVEC, word2vec_model)"
   ]
  },
  {
   "cell_type": "markdown",
   "metadata": {},
   "source": [
    "## Extract relevant ICD-9 with Doctor XAI"
   ]
  },
  {
   "cell_type": "code",
   "execution_count": 4,
   "metadata": {},
   "outputs": [],
   "source": [
    "se = SemanticEnrichment()\n",
    "subject_ids = [30575, 885]\n",
    "notes_to_validate = se.get_notes_to_validate(subject_ids, df, patient_admission_dictionary, mapping_icd9_description)"
   ]
  },
  {
   "cell_type": "code",
   "execution_count": 11,
   "metadata": {},
   "outputs": [
    {
     "data": {
      "text/html": [
       "<div>\n",
       "<style scoped>\n",
       "    .dataframe tbody tr th:only-of-type {\n",
       "        vertical-align: middle;\n",
       "    }\n",
       "\n",
       "    .dataframe tbody tr th {\n",
       "        vertical-align: top;\n",
       "    }\n",
       "\n",
       "    .dataframe thead th {\n",
       "        text-align: right;\n",
       "    }\n",
       "</style>\n",
       "<table border=\"1\" class=\"dataframe\">\n",
       "  <thead>\n",
       "    <tr style=\"text-align: right;\">\n",
       "      <th></th>\n",
       "      <th>subject_id</th>\n",
       "      <th>hadm_id</th>\n",
       "      <th>codes</th>\n",
       "      <th>description</th>\n",
       "      <th>notes</th>\n",
       "    </tr>\n",
       "  </thead>\n",
       "  <tbody>\n",
       "    <tr>\n",
       "      <th>0</th>\n",
       "      <td>30575</td>\n",
       "      <td>114848</td>\n",
       "      <td>51881</td>\n",
       "      <td>Acute respiratory failure</td>\n",
       "      <td>Admission Date:  [**2201-1-31**]              ...</td>\n",
       "    </tr>\n",
       "    <tr>\n",
       "      <th>1</th>\n",
       "      <td>30575</td>\n",
       "      <td>114848</td>\n",
       "      <td>2920</td>\n",
       "      <td>Drug withdrawal</td>\n",
       "      <td>Admission Date:  [**2201-1-31**]              ...</td>\n",
       "    </tr>\n",
       "    <tr>\n",
       "      <th>2</th>\n",
       "      <td>30575</td>\n",
       "      <td>114848</td>\n",
       "      <td>7245</td>\n",
       "      <td>Backache, unspecified</td>\n",
       "      <td>Admission Date:  [**2201-1-31**]              ...</td>\n",
       "    </tr>\n",
       "    <tr>\n",
       "      <th>3</th>\n",
       "      <td>30575</td>\n",
       "      <td>114848</td>\n",
       "      <td>07054</td>\n",
       "      <td>Chronic hepatitis C without mention of hepatic...</td>\n",
       "      <td>Admission Date:  [**2201-1-31**]              ...</td>\n",
       "    </tr>\n",
       "    <tr>\n",
       "      <th>4</th>\n",
       "      <td>30575</td>\n",
       "      <td>149751</td>\n",
       "      <td>V4364</td>\n",
       "      <td>Hip joint replacement</td>\n",
       "      <td>Admission Date:  [**2203-6-26**]              ...</td>\n",
       "    </tr>\n",
       "  </tbody>\n",
       "</table>\n",
       "</div>"
      ],
      "text/plain": [
       "   subject_id  hadm_id  codes  \\\n",
       "0       30575   114848  51881   \n",
       "1       30575   114848   2920   \n",
       "2       30575   114848   7245   \n",
       "3       30575   114848  07054   \n",
       "4       30575   149751  V4364   \n",
       "\n",
       "                                         description  \\\n",
       "0                          Acute respiratory failure   \n",
       "1                                    Drug withdrawal   \n",
       "2                              Backache, unspecified   \n",
       "3  Chronic hepatitis C without mention of hepatic...   \n",
       "4                              Hip joint replacement   \n",
       "\n",
       "                                               notes  \n",
       "0  Admission Date:  [**2201-1-31**]              ...  \n",
       "1  Admission Date:  [**2201-1-31**]              ...  \n",
       "2  Admission Date:  [**2201-1-31**]              ...  \n",
       "3  Admission Date:  [**2201-1-31**]              ...  \n",
       "4  Admission Date:  [**2203-6-26**]              ...  "
      ]
     },
     "execution_count": 11,
     "metadata": {},
     "output_type": "execute_result"
    }
   ],
   "source": [
    "notes_to_validate.head()"
   ]
  },
  {
   "cell_type": "markdown",
   "metadata": {},
   "source": [
    "## Extract Relevant Sentences"
   ]
  },
  {
   "cell_type": "code",
   "execution_count": 18,
   "metadata": {},
   "outputs": [],
   "source": [
    "# Extract the relevant sentences. \n",
    "# The funcion split the sentences in higher than the threshold and lower than the threshold.\n",
    "higher, lower = se.extract_relevant_sentences(notes_to_validate, \n",
    "                                threshold = 95, \n",
    "                                k = 1,\n",
    "                                finding_site_dict = finding_site_dict,\n",
    "                                due_to_dict = due_to_dict,\n",
    "                                associated_morphology_dict = associated_morphology_dict,\n",
    "                                description_dict = description_dict,\n",
    "                                embedding = embedding)\n",
    "higher = se.create_result_dataframe(higher)\n",
    "lower = se.create_result_dataframe(lower)"
   ]
  },
  {
   "cell_type": "code",
   "execution_count": 20,
   "metadata": {},
   "outputs": [
    {
     "data": {
      "text/html": [
       "<div>\n",
       "<style scoped>\n",
       "    .dataframe tbody tr th:only-of-type {\n",
       "        vertical-align: middle;\n",
       "    }\n",
       "\n",
       "    .dataframe tbody tr th {\n",
       "        vertical-align: top;\n",
       "    }\n",
       "\n",
       "    .dataframe thead th {\n",
       "        text-align: right;\n",
       "    }\n",
       "</style>\n",
       "<table border=\"1\" class=\"dataframe\">\n",
       "  <thead>\n",
       "    <tr style=\"text-align: right;\">\n",
       "      <th></th>\n",
       "      <th>subject_ID</th>\n",
       "      <th>hadm_id</th>\n",
       "      <th>icd_9</th>\n",
       "      <th>relation_type</th>\n",
       "      <th>relation</th>\n",
       "      <th>similarity</th>\n",
       "      <th>extracted_substring</th>\n",
       "      <th>converted_string</th>\n",
       "    </tr>\n",
       "  </thead>\n",
       "  <tbody>\n",
       "    <tr>\n",
       "      <th>0</th>\n",
       "      <td>30575</td>\n",
       "      <td>114848</td>\n",
       "      <td>51881</td>\n",
       "      <td>Finding_site</td>\n",
       "      <td>respiratory system structure</td>\n",
       "      <td>0.728156</td>\n",
       "      <td>[for, hypercarbic, respiratory, acidosis, the,...</td>\n",
       "      <td>for hypercarbic\\nrespiratory acidosis.\\n.\\nThe...</td>\n",
       "    </tr>\n",
       "    <tr>\n",
       "      <th>1</th>\n",
       "      <td>30575</td>\n",
       "      <td>114848</td>\n",
       "      <td>51881</td>\n",
       "      <td>Description</td>\n",
       "      <td>acute respiratory failure</td>\n",
       "      <td>0.810749</td>\n",
       "      <td>[hypercarbic, respiratory, acidosis, the, pati...</td>\n",
       "      <td>hypercarbic\\nrespiratory acidosis.\\n.\\nThe pat...</td>\n",
       "    </tr>\n",
       "    <tr>\n",
       "      <th>2</th>\n",
       "      <td>30575</td>\n",
       "      <td>114848</td>\n",
       "      <td>2920</td>\n",
       "      <td>Description</td>\n",
       "      <td>drug withdrawal</td>\n",
       "      <td>0.730278</td>\n",
       "      <td>[stopped, ivda, in, aver, years, of, use, coca...</td>\n",
       "      <td></td>\n",
       "    </tr>\n",
       "    <tr>\n",
       "      <th>3</th>\n",
       "      <td>30575</td>\n",
       "      <td>114848</td>\n",
       "      <td>7245</td>\n",
       "      <td>Finding_site</td>\n",
       "      <td>back structure, including back of neck</td>\n",
       "      <td>0.916663</td>\n",
       "      <td>[back, and, hit, the, back, of, his]</td>\n",
       "      <td>back and\\nhit the back of his</td>\n",
       "    </tr>\n",
       "    <tr>\n",
       "      <th>4</th>\n",
       "      <td>30575</td>\n",
       "      <td>114848</td>\n",
       "      <td>7245</td>\n",
       "      <td>Description</td>\n",
       "      <td>backache</td>\n",
       "      <td>0.718363</td>\n",
       "      <td>[his, chronic, back, hip, and, knee, pain, the...</td>\n",
       "      <td>his chronic back, hip, and knee pain. The pain...</td>\n",
       "    </tr>\n",
       "  </tbody>\n",
       "</table>\n",
       "</div>"
      ],
      "text/plain": [
       "   subject_ID  hadm_id  icd_9 relation_type  \\\n",
       "0       30575   114848  51881  Finding_site   \n",
       "1       30575   114848  51881   Description   \n",
       "2       30575   114848   2920   Description   \n",
       "3       30575   114848   7245  Finding_site   \n",
       "4       30575   114848   7245   Description   \n",
       "\n",
       "                                 relation  similarity  \\\n",
       "0            respiratory system structure    0.728156   \n",
       "1               acute respiratory failure    0.810749   \n",
       "2                         drug withdrawal    0.730278   \n",
       "3  back structure, including back of neck    0.916663   \n",
       "4                                backache    0.718363   \n",
       "\n",
       "                                 extracted_substring  \\\n",
       "0  [for, hypercarbic, respiratory, acidosis, the,...   \n",
       "1  [hypercarbic, respiratory, acidosis, the, pati...   \n",
       "2  [stopped, ivda, in, aver, years, of, use, coca...   \n",
       "3               [back, and, hit, the, back, of, his]   \n",
       "4  [his, chronic, back, hip, and, knee, pain, the...   \n",
       "\n",
       "                                    converted_string  \n",
       "0  for hypercarbic\\nrespiratory acidosis.\\n.\\nThe...  \n",
       "1  hypercarbic\\nrespiratory acidosis.\\n.\\nThe pat...  \n",
       "2                                                     \n",
       "3                      back and\\nhit the back of his  \n",
       "4  his chronic back, hip, and knee pain. The pain...  "
      ]
     },
     "execution_count": 20,
     "metadata": {},
     "output_type": "execute_result"
    }
   ],
   "source": [
    "higher.head()"
   ]
  }
 ],
 "metadata": {
  "interpreter": {
   "hash": "eb23c270a923038847bff8d5b957ffb7b768a0deea347ad8321bce3a17cb2485"
  },
  "kernelspec": {
   "display_name": "Python 3.9.7 64-bit ('semantic_enrichment': pyenv)",
   "language": "python",
   "name": "python3"
  },
  "language_info": {
   "codemirror_mode": {
    "name": "ipython",
    "version": 3
   },
   "file_extension": ".py",
   "mimetype": "text/x-python",
   "name": "python",
   "nbconvert_exporter": "python",
   "pygments_lexer": "ipython3",
   "version": "3.9.7"
  },
  "orig_nbformat": 4
 },
 "nbformat": 4,
 "nbformat_minor": 2
}
